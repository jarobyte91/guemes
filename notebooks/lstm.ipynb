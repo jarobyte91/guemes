{
 "cells": [
  {
   "cell_type": "code",
   "execution_count": 1,
   "metadata": {},
   "outputs": [],
   "source": [
    "import pandas as pd\n",
    "import torch\n",
    "import torch.nn as nn\n",
    "import numpy as np\n",
    "import matplotlib.pyplot as plt\n",
    "from nltk.lm import Vocabulary\n",
    "from tqdm import tqdm\n",
    "from functools import reduce"
   ]
  },
  {
   "cell_type": "code",
   "execution_count": 2,
   "metadata": {},
   "outputs": [
    {
     "name": "stdout",
     "output_type": "stream",
     "text": [
      "(108017, 3)\n"
     ]
    },
    {
     "data": {
      "text/html": [
       "<div>\n",
       "<style scoped>\n",
       "    .dataframe tbody tr th:only-of-type {\n",
       "        vertical-align: middle;\n",
       "    }\n",
       "\n",
       "    .dataframe tbody tr th {\n",
       "        vertical-align: top;\n",
       "    }\n",
       "\n",
       "    .dataframe thead th {\n",
       "        text-align: right;\n",
       "    }\n",
       "</style>\n",
       "<table border=\"1\" class=\"dataframe\">\n",
       "  <thead>\n",
       "    <tr style=\"text-align: right;\">\n",
       "      <th></th>\n",
       "      <th>file</th>\n",
       "      <th>order</th>\n",
       "      <th>text</th>\n",
       "    </tr>\n",
       "  </thead>\n",
       "  <tbody>\n",
       "    <tr>\n",
       "      <th>0</th>\n",
       "      <td>Doyle_Arthur_Conan-Adventures_of_Sherlock_Holm...</td>\n",
       "      <td>0</td>\n",
       "      <td>Source: librosgratis.liblit.com/</td>\n",
       "    </tr>\n",
       "    <tr>\n",
       "      <th>1</th>\n",
       "      <td>Doyle_Arthur_Conan-Adventures_of_Sherlock_Holm...</td>\n",
       "      <td>1</td>\n",
       "      <td>LAS AVENTURAS DE SHERLOCK HOLMES</td>\n",
       "    </tr>\n",
       "    <tr>\n",
       "      <th>2</th>\n",
       "      <td>Doyle_Arthur_Conan-Adventures_of_Sherlock_Holm...</td>\n",
       "      <td>2</td>\n",
       "      <td>Arthur Conan Doyle</td>\n",
       "    </tr>\n",
       "    <tr>\n",
       "      <th>3</th>\n",
       "      <td>Doyle_Arthur_Conan-Adventures_of_Sherlock_Holm...</td>\n",
       "      <td>3</td>\n",
       "      <td>1.</td>\n",
       "    </tr>\n",
       "    <tr>\n",
       "      <th>4</th>\n",
       "      <td>Doyle_Arthur_Conan-Adventures_of_Sherlock_Holm...</td>\n",
       "      <td>4</td>\n",
       "      <td>Escándalo en Bohemia</td>\n",
       "    </tr>\n",
       "  </tbody>\n",
       "</table>\n",
       "</div>"
      ],
      "text/plain": [
       "                                                file  order  \\\n",
       "0  Doyle_Arthur_Conan-Adventures_of_Sherlock_Holm...      0   \n",
       "1  Doyle_Arthur_Conan-Adventures_of_Sherlock_Holm...      1   \n",
       "2  Doyle_Arthur_Conan-Adventures_of_Sherlock_Holm...      2   \n",
       "3  Doyle_Arthur_Conan-Adventures_of_Sherlock_Holm...      3   \n",
       "4  Doyle_Arthur_Conan-Adventures_of_Sherlock_Holm...      4   \n",
       "\n",
       "                               text  \n",
       "0  Source: librosgratis.liblit.com/  \n",
       "1  LAS AVENTURAS DE SHERLOCK HOLMES  \n",
       "2                Arthur Conan Doyle  \n",
       "3                                1.  \n",
       "4              Escándalo en Bohemia  "
      ]
     },
     "execution_count": 2,
     "metadata": {},
     "output_type": "execute_result"
    }
   ],
   "source": [
    "opus = pd.read_pickle(\"../data/raw/opus_sentences.pkl\")\n",
    "print(opus.shape)\n",
    "opus.head()"
   ]
  },
  {
   "cell_type": "code",
   "execution_count": 3,
   "metadata": {},
   "outputs": [],
   "source": [
    "vocabulary = set(\"\".join(opus[\"text\"].to_list()))"
   ]
  },
  {
   "cell_type": "code",
   "execution_count": 4,
   "metadata": {},
   "outputs": [
    {
     "data": {
      "text/plain": [
       "136"
      ]
     },
     "execution_count": 4,
     "metadata": {},
     "output_type": "execute_result"
    }
   ],
   "source": [
    "char_to_ix = {k:i for i, k in enumerate(vocabulary, 3)}\n",
    "char_to_ix[\"<pad>\"] = 0\n",
    "char_to_ix[\"<bos>\"] = 1\n",
    "char_to_ix[\"<eos>\"] = 2\n",
    "len(char_to_ix)"
   ]
  },
  {
   "cell_type": "code",
   "execution_count": 5,
   "metadata": {},
   "outputs": [],
   "source": [
    "ix_to_char = {char_to_ix[k]:k for k in char_to_ix.keys()}"
   ]
  },
  {
   "cell_type": "markdown",
   "metadata": {},
   "source": [
    "# generate training data"
   ]
  },
  {
   "cell_type": "code",
   "execution_count": 6,
   "metadata": {
    "scrolled": true
   },
   "outputs": [],
   "source": [
    "def text_to_ix(text):\n",
    "    return [1] + [char_to_ix[c] for c in text] + [2]"
   ]
  },
  {
   "cell_type": "code",
   "execution_count": 7,
   "metadata": {},
   "outputs": [],
   "source": [
    "def ix_to_text(ixs):\n",
    "    return \"\".join([ix_to_char[i] for i in ixs])"
   ]
  },
  {
   "cell_type": "code",
   "execution_count": 8,
   "metadata": {},
   "outputs": [
    {
     "data": {
      "text/plain": [
       "25"
      ]
     },
     "execution_count": 8,
     "metadata": {},
     "output_type": "execute_result"
    }
   ],
   "source": [
    "def pad(x, l):\n",
    "    if len(x) < l:\n",
    "        #print(x)\n",
    "        return x + [0 for i in range(l - len(x))]\n",
    "    else:\n",
    "        return x[:l-1] + [2]\n",
    "    \n",
    "len(pad(list(range(25)), 25))"
   ]
  },
  {
   "cell_type": "code",
   "execution_count": 9,
   "metadata": {},
   "outputs": [
    {
     "data": {
      "text/plain": [
       "'Relocate, remove, or add characters to create spelling mistakes'"
      ]
     },
     "execution_count": 9,
     "metadata": {},
     "output_type": "execute_result"
    }
   ],
   "source": [
    "letters = list(sorted(vocabulary))\n",
    "\n",
    "def noise_maker(sentence, threshold):\n",
    "    '''Relocate, remove, or add characters to create spelling mistakes'''\n",
    "    \n",
    "    noisy_sentence = []\n",
    "    i = 0\n",
    "    while i < len(sentence):\n",
    "        random = np.random.uniform(0,1,1)\n",
    "        # Most characters will be correct since the threshold value is high\n",
    "        if random < threshold:\n",
    "            noisy_sentence.append(sentence[i])\n",
    "        else:\n",
    "            new_random = np.random.uniform(0,1,1)\n",
    "            # ~33% chance characters will swap locations\n",
    "            if new_random > 0.67:\n",
    "                if i == (len(sentence) - 1):\n",
    "                    # If last character in sentence, it will not be typed\n",
    "                    continue\n",
    "                else:\n",
    "                    # if any other character, swap order with following character\n",
    "                    noisy_sentence.append(sentence[i+1])\n",
    "                    noisy_sentence.append(sentence[i])\n",
    "                    i += 1\n",
    "            # ~33% chance an extra lower case letter will be added to the sentence\n",
    "            elif new_random < 0.33:\n",
    "                random_letter = np.random.choice(letters, 1)[0]\n",
    "                #print(char_to_ix[random_letter])\n",
    "                noisy_sentence.append(random_letter)\n",
    "                #noisy_sentence.append(char_to_ix[random_letter])\n",
    "                noisy_sentence.append(sentence[i])\n",
    "            # ~33% chance a character will not be typed\n",
    "            else:\n",
    "                pass     \n",
    "        i += 1\n",
    "    #return noisy_sentence\n",
    "    return \"\".join(noisy_sentence)\n",
    "\n",
    "noise_maker(\"Relocate, remove, or add characters to create spelling mistakes\", 0.97)"
   ]
  },
  {
   "cell_type": "code",
   "execution_count": 10,
   "metadata": {},
   "outputs": [],
   "source": [
    "from timeit import default_timer"
   ]
  },
  {
   "cell_type": "code",
   "execution_count": 11,
   "metadata": {},
   "outputs": [
    {
     "data": {
      "text/plain": [
       "count    108017.000000\n",
       "mean        108.709648\n",
       "std          98.915442\n",
       "min           1.000000\n",
       "0%            1.000000\n",
       "10%          22.000000\n",
       "20%          35.000000\n",
       "30%          49.000000\n",
       "40%          65.000000\n",
       "50%          83.000000\n",
       "60%         103.000000\n",
       "70%         129.000000\n",
       "80%         163.000000\n",
       "90%         222.000000\n",
       "max        2249.000000\n",
       "Name: text, dtype: float64"
      ]
     },
     "execution_count": 11,
     "metadata": {},
     "output_type": "execute_result"
    }
   ],
   "source": [
    "opus[\"text\"].map(len).describe(percentiles = np.arange(0, 1, 0.1))"
   ]
  },
  {
   "cell_type": "code",
   "execution_count": 12,
   "metadata": {},
   "outputs": [
    {
     "data": {
      "text/plain": [
       "<matplotlib.axes._subplots.AxesSubplot at 0x7f6f14151b50>"
      ]
     },
     "execution_count": 12,
     "metadata": {},
     "output_type": "execute_result"
    },
    {
     "data": {
      "image/png": "[encoded data removed]",
      "text/plain": [
       "<Figure size 432x288 with 1 Axes>"
      ]
     },
     "metadata": {
      "needs_background": "light"
     },
     "output_type": "display_data"
    }
   ],
   "source": [
    "opus[\"text\"].map(len).plot.hist(bins = 50)"
   ]
  },
  {
   "cell_type": "code",
   "execution_count": 13,
   "metadata": {},
   "outputs": [
    {
     "name": "stdout",
     "output_type": "stream",
     "text": [
      "0.038024928006052505\n",
      "(20, 4)\n"
     ]
    },
    {
     "data": {
      "text/html": [
       "<div>\n",
       "<style scoped>\n",
       "    .dataframe tbody tr th:only-of-type {\n",
       "        vertical-align: middle;\n",
       "    }\n",
       "\n",
       "    .dataframe tbody tr th {\n",
       "        vertical-align: top;\n",
       "    }\n",
       "\n",
       "    .dataframe thead th {\n",
       "        text-align: right;\n",
       "    }\n",
       "</style>\n",
       "<table border=\"1\" class=\"dataframe\">\n",
       "  <thead>\n",
       "    <tr style=\"text-align: right;\">\n",
       "      <th></th>\n",
       "      <th>text</th>\n",
       "      <th>noisy_sentences</th>\n",
       "      <th>X</th>\n",
       "      <th>Y</th>\n",
       "    </tr>\n",
       "  </thead>\n",
       "  <tbody>\n",
       "    <tr>\n",
       "      <th>0</th>\n",
       "      <td>No sabía qué hacer ni qué decir, y antes de qu...</td>\n",
       "      <td>No sabía qué hacer ni qué decir, y antes de qu...</td>\n",
       "      <td>[1, 27, 125, 69, 34, 5, 127, 15, 5, 69, 112, 7...</td>\n",
       "      <td>[1, 27, 125, 69, 34, 5, 127, 15, 5, 69, 112, 7...</td>\n",
       "    </tr>\n",
       "    <tr>\n",
       "      <th>1</th>\n",
       "      <td>No sabía qué hacer ni qué decir, y antes de qu...</td>\n",
       "      <td>No sabía qué hacer ni qué decir, y antes de qu...</td>\n",
       "      <td>[1, 27, 125, 69, 34, 5, 127, 15, 5, 69, 112, 7...</td>\n",
       "      <td>[1, 27, 125, 69, 34, 5, 127, 15, 5, 69, 112, 7...</td>\n",
       "    </tr>\n",
       "    <tr>\n",
       "      <th>2</th>\n",
       "      <td>No sabía qué hacer ni qué decir, y antes de qu...</td>\n",
       "      <td>No sabía qué hacer ni qué decir, y antes de qu...</td>\n",
       "      <td>[1, 27, 125, 69, 34, 5, 127, 15, 5, 69, 112, 7...</td>\n",
       "      <td>[1, 27, 125, 69, 34, 5, 127, 15, 5, 69, 112, 7...</td>\n",
       "    </tr>\n",
       "    <tr>\n",
       "      <th>3</th>\n",
       "      <td>No sabía qué hacer ni qué decir, y antes de qu...</td>\n",
       "      <td>No sabía qué hacer ni qué decir, y antes de qu...</td>\n",
       "      <td>[1, 27, 125, 69, 34, 5, 127, 15, 5, 69, 112, 7...</td>\n",
       "      <td>[1, 27, 125, 69, 34, 5, 127, 15, 5, 69, 112, 7...</td>\n",
       "    </tr>\n",
       "    <tr>\n",
       "      <th>4</th>\n",
       "      <td>No sabía qué hacer ni qué decir, y antes de qu...</td>\n",
       "      <td>No sabía qué hacer ni qué decir, y antes de qu...</td>\n",
       "      <td>[1, 27, 125, 69, 34, 5, 127, 15, 5, 69, 112, 7...</td>\n",
       "      <td>[1, 27, 125, 69, 34, 5, 127, 15, 5, 69, 112, 7...</td>\n",
       "    </tr>\n",
       "    <tr>\n",
       "      <th>5</th>\n",
       "      <td>No sabía qué hacer ni qué decir, y antes de qu...</td>\n",
       "      <td>No sabía qué hcer ni qué decir, y antes de que...</td>\n",
       "      <td>[1, 27, 125, 69, 34, 5, 127, 15, 5, 69, 112, 7...</td>\n",
       "      <td>[1, 27, 125, 69, 34, 5, 127, 15, 5, 69, 112, 7...</td>\n",
       "    </tr>\n",
       "    <tr>\n",
       "      <th>6</th>\n",
       "      <td>No sabía qué hacer ni qué decir, y antes de qu...</td>\n",
       "      <td>No sabía qué hacer ni qué decir, y antes de qu...</td>\n",
       "      <td>[1, 27, 125, 69, 34, 5, 127, 15, 5, 69, 112, 7...</td>\n",
       "      <td>[1, 27, 125, 69, 34, 5, 127, 15, 5, 69, 112, 7...</td>\n",
       "    </tr>\n",
       "    <tr>\n",
       "      <th>7</th>\n",
       "      <td>No sabía qué hacer ni qué decir, y antes de qu...</td>\n",
       "      <td>No sabía qué hacer ni qué decir, y antes deq u...</td>\n",
       "      <td>[1, 27, 125, 69, 34, 5, 127, 15, 5, 69, 112, 7...</td>\n",
       "      <td>[1, 27, 125, 69, 34, 5, 127, 15, 5, 69, 112, 7...</td>\n",
       "    </tr>\n",
       "    <tr>\n",
       "      <th>8</th>\n",
       "      <td>No sabía qué hacer ni qué decir, y antes de qu...</td>\n",
       "      <td>No sabía qué haceDr ni qué decir, y nates de q...</td>\n",
       "      <td>[1, 27, 125, 69, 34, 5, 127, 15, 5, 69, 112, 7...</td>\n",
       "      <td>[1, 27, 125, 69, 34, 5, 127, 15, 5, 69, 112, 7...</td>\n",
       "    </tr>\n",
       "    <tr>\n",
       "      <th>9</th>\n",
       "      <td>No sabía qué hacer ni qué decir, y antes de qu...</td>\n",
       "      <td>No sabía qué hcer ni qué deci, y antes deÌ que...</td>\n",
       "      <td>[1, 27, 125, 69, 34, 5, 127, 15, 5, 69, 112, 7...</td>\n",
       "      <td>[1, 27, 125, 69, 34, 5, 127, 15, 5, 69, 112, 7...</td>\n",
       "    </tr>\n",
       "    <tr>\n",
       "      <th>10</th>\n",
       "      <td>A falta de las maravillas naturales, el mar of...</td>\n",
       "      <td>A falta de las maravillas naturales, el mar of...</td>\n",
       "      <td>[1, 11, 69, 95, 5, 100, 108, 5, 69, 84, 88, 69...</td>\n",
       "      <td>[1, 11, 69, 95, 5, 100, 108, 5, 69, 84, 88, 69...</td>\n",
       "    </tr>\n",
       "    <tr>\n",
       "      <th>11</th>\n",
       "      <td>A falta de las maravillas naturales, el mar of...</td>\n",
       "      <td>A falta de las maravillas naturales, el mar of...</td>\n",
       "      <td>[1, 11, 69, 95, 5, 100, 108, 5, 69, 84, 88, 69...</td>\n",
       "      <td>[1, 11, 69, 95, 5, 100, 108, 5, 69, 84, 88, 69...</td>\n",
       "    </tr>\n",
       "    <tr>\n",
       "      <th>12</th>\n",
       "      <td>A falta de las maravillas naturales, el mar of...</td>\n",
       "      <td>A falta de las maravillas naturales, el mar of...</td>\n",
       "      <td>[1, 11, 69, 95, 5, 100, 108, 5, 69, 84, 88, 69...</td>\n",
       "      <td>[1, 11, 69, 95, 5, 100, 108, 5, 69, 84, 88, 69...</td>\n",
       "    </tr>\n",
       "    <tr>\n",
       "      <th>13</th>\n",
       "      <td>A falta de las maravillas naturales, el mar of...</td>\n",
       "      <td>A falta de las maravillas naturales, el mar of...</td>\n",
       "      <td>[1, 11, 69, 95, 5, 100, 108, 5, 69, 84, 88, 69...</td>\n",
       "      <td>[1, 11, 69, 95, 5, 100, 108, 5, 69, 84, 88, 69...</td>\n",
       "    </tr>\n",
       "    <tr>\n",
       "      <th>14</th>\n",
       "      <td>A falta de las maravillas naturales, el mar of...</td>\n",
       "      <td>A falta de las maravillas naturales, el mar of...</td>\n",
       "      <td>[1, 11, 69, 95, 5, 100, 108, 5, 69, 84, 88, 69...</td>\n",
       "      <td>[1, 11, 69, 95, 5, 100, 108, 5, 69, 84, 88, 69...</td>\n",
       "    </tr>\n",
       "    <tr>\n",
       "      <th>15</th>\n",
       "      <td>A falta de las maravillas naturales, el mar of...</td>\n",
       "      <td>A fal:ta de las maraviNllas naturales, el mar ...</td>\n",
       "      <td>[1, 11, 69, 95, 5, 100, 59, 108, 5, 69, 84, 88...</td>\n",
       "      <td>[1, 11, 69, 95, 5, 100, 108, 5, 69, 84, 88, 69...</td>\n",
       "    </tr>\n",
       "    <tr>\n",
       "      <th>16</th>\n",
       "      <td>A falta de las maravillas naturales, el mar of...</td>\n",
       "      <td>A falta de las maravillasnaturales, el mar ofr...</td>\n",
       "      <td>[1, 11, 69, 95, 5, 100, 108, 5, 69, 84, 88, 69...</td>\n",
       "      <td>[1, 11, 69, 95, 5, 100, 108, 5, 69, 84, 88, 69...</td>\n",
       "    </tr>\n",
       "    <tr>\n",
       "      <th>17</th>\n",
       "      <td>A falta de las maravillas naturales, el mar of...</td>\n",
       "      <td>A falta de las maravillas naturales, el mar of...</td>\n",
       "      <td>[1, 11, 69, 95, 5, 100, 108, 5, 69, 84, 88, 69...</td>\n",
       "      <td>[1, 11, 69, 95, 5, 100, 108, 5, 69, 84, 88, 69...</td>\n",
       "    </tr>\n",
       "    <tr>\n",
       "      <th>18</th>\n",
       "      <td>A falta de las maravillas naturales, el mar of...</td>\n",
       "      <td>A falta de las maravillas naturales, e mar ofr...</td>\n",
       "      <td>[1, 11, 69, 95, 5, 100, 108, 5, 69, 84, 88, 69...</td>\n",
       "      <td>[1, 11, 69, 95, 5, 100, 108, 5, 69, 84, 88, 69...</td>\n",
       "    </tr>\n",
       "    <tr>\n",
       "      <th>19</th>\n",
       "      <td>A falta de las maravillas naturales, el mar of...</td>\n",
       "      <td>A falta de las maarillas naturales, el mar ofr...</td>\n",
       "      <td>[1, 11, 69, 95, 5, 100, 108, 5, 69, 84, 88, 69...</td>\n",
       "      <td>[1, 11, 69, 95, 5, 100, 108, 5, 69, 84, 88, 69...</td>\n",
       "    </tr>\n",
       "  </tbody>\n",
       "</table>\n",
       "</div>"
      ],
      "text/plain": [
       "                                                 text  \\\n",
       "0   No sabía qué hacer ni qué decir, y antes de qu...   \n",
       "1   No sabía qué hacer ni qué decir, y antes de qu...   \n",
       "2   No sabía qué hacer ni qué decir, y antes de qu...   \n",
       "3   No sabía qué hacer ni qué decir, y antes de qu...   \n",
       "4   No sabía qué hacer ni qué decir, y antes de qu...   \n",
       "5   No sabía qué hacer ni qué decir, y antes de qu...   \n",
       "6   No sabía qué hacer ni qué decir, y antes de qu...   \n",
       "7   No sabía qué hacer ni qué decir, y antes de qu...   \n",
       "8   No sabía qué hacer ni qué decir, y antes de qu...   \n",
       "9   No sabía qué hacer ni qué decir, y antes de qu...   \n",
       "10  A falta de las maravillas naturales, el mar of...   \n",
       "11  A falta de las maravillas naturales, el mar of...   \n",
       "12  A falta de las maravillas naturales, el mar of...   \n",
       "13  A falta de las maravillas naturales, el mar of...   \n",
       "14  A falta de las maravillas naturales, el mar of...   \n",
       "15  A falta de las maravillas naturales, el mar of...   \n",
       "16  A falta de las maravillas naturales, el mar of...   \n",
       "17  A falta de las maravillas naturales, el mar of...   \n",
       "18  A falta de las maravillas naturales, el mar of...   \n",
       "19  A falta de las maravillas naturales, el mar of...   \n",
       "\n",
       "                                      noisy_sentences  \\\n",
       "0   No sabía qué hacer ni qué decir, y antes de qu...   \n",
       "1   No sabía qué hacer ni qué decir, y antes de qu...   \n",
       "2   No sabía qué hacer ni qué decir, y antes de qu...   \n",
       "3   No sabía qué hacer ni qué decir, y antes de qu...   \n",
       "4   No sabía qué hacer ni qué decir, y antes de qu...   \n",
       "5   No sabía qué hcer ni qué decir, y antes de que...   \n",
       "6   No sabía qué hacer ni qué decir, y antes de qu...   \n",
       "7   No sabía qué hacer ni qué decir, y antes deq u...   \n",
       "8   No sabía qué haceDr ni qué decir, y nates de q...   \n",
       "9   No sabía qué hcer ni qué deci, y antes deÌ que...   \n",
       "10  A falta de las maravillas naturales, el mar of...   \n",
       "11  A falta de las maravillas naturales, el mar of...   \n",
       "12  A falta de las maravillas naturales, el mar of...   \n",
       "13  A falta de las maravillas naturales, el mar of...   \n",
       "14  A falta de las maravillas naturales, el mar of...   \n",
       "15  A fal:ta de las maraviNllas naturales, el mar ...   \n",
       "16  A falta de las maravillasnaturales, el mar ofr...   \n",
       "17  A falta de las maravillas naturales, el mar of...   \n",
       "18  A falta de las maravillas naturales, e mar ofr...   \n",
       "19  A falta de las maarillas naturales, el mar ofr...   \n",
       "\n",
       "                                                    X  \\\n",
       "0   [1, 27, 125, 69, 34, 5, 127, 15, 5, 69, 112, 7...   \n",
       "1   [1, 27, 125, 69, 34, 5, 127, 15, 5, 69, 112, 7...   \n",
       "2   [1, 27, 125, 69, 34, 5, 127, 15, 5, 69, 112, 7...   \n",
       "3   [1, 27, 125, 69, 34, 5, 127, 15, 5, 69, 112, 7...   \n",
       "4   [1, 27, 125, 69, 34, 5, 127, 15, 5, 69, 112, 7...   \n",
       "5   [1, 27, 125, 69, 34, 5, 127, 15, 5, 69, 112, 7...   \n",
       "6   [1, 27, 125, 69, 34, 5, 127, 15, 5, 69, 112, 7...   \n",
       "7   [1, 27, 125, 69, 34, 5, 127, 15, 5, 69, 112, 7...   \n",
       "8   [1, 27, 125, 69, 34, 5, 127, 15, 5, 69, 112, 7...   \n",
       "9   [1, 27, 125, 69, 34, 5, 127, 15, 5, 69, 112, 7...   \n",
       "10  [1, 11, 69, 95, 5, 100, 108, 5, 69, 84, 88, 69...   \n",
       "11  [1, 11, 69, 95, 5, 100, 108, 5, 69, 84, 88, 69...   \n",
       "12  [1, 11, 69, 95, 5, 100, 108, 5, 69, 84, 88, 69...   \n",
       "13  [1, 11, 69, 95, 5, 100, 108, 5, 69, 84, 88, 69...   \n",
       "14  [1, 11, 69, 95, 5, 100, 108, 5, 69, 84, 88, 69...   \n",
       "15  [1, 11, 69, 95, 5, 100, 59, 108, 5, 69, 84, 88...   \n",
       "16  [1, 11, 69, 95, 5, 100, 108, 5, 69, 84, 88, 69...   \n",
       "17  [1, 11, 69, 95, 5, 100, 108, 5, 69, 84, 88, 69...   \n",
       "18  [1, 11, 69, 95, 5, 100, 108, 5, 69, 84, 88, 69...   \n",
       "19  [1, 11, 69, 95, 5, 100, 108, 5, 69, 84, 88, 69...   \n",
       "\n",
       "                                                    Y  \n",
       "0   [1, 27, 125, 69, 34, 5, 127, 15, 5, 69, 112, 7...  \n",
       "1   [1, 27, 125, 69, 34, 5, 127, 15, 5, 69, 112, 7...  \n",
       "2   [1, 27, 125, 69, 34, 5, 127, 15, 5, 69, 112, 7...  \n",
       "3   [1, 27, 125, 69, 34, 5, 127, 15, 5, 69, 112, 7...  \n",
       "4   [1, 27, 125, 69, 34, 5, 127, 15, 5, 69, 112, 7...  \n",
       "5   [1, 27, 125, 69, 34, 5, 127, 15, 5, 69, 112, 7...  \n",
       "6   [1, 27, 125, 69, 34, 5, 127, 15, 5, 69, 112, 7...  \n",
       "7   [1, 27, 125, 69, 34, 5, 127, 15, 5, 69, 112, 7...  \n",
       "8   [1, 27, 125, 69, 34, 5, 127, 15, 5, 69, 112, 7...  \n",
       "9   [1, 27, 125, 69, 34, 5, 127, 15, 5, 69, 112, 7...  \n",
       "10  [1, 11, 69, 95, 5, 100, 108, 5, 69, 84, 88, 69...  \n",
       "11  [1, 11, 69, 95, 5, 100, 108, 5, 69, 84, 88, 69...  \n",
       "12  [1, 11, 69, 95, 5, 100, 108, 5, 69, 84, 88, 69...  \n",
       "13  [1, 11, 69, 95, 5, 100, 108, 5, 69, 84, 88, 69...  \n",
       "14  [1, 11, 69, 95, 5, 100, 108, 5, 69, 84, 88, 69...  \n",
       "15  [1, 11, 69, 95, 5, 100, 108, 5, 69, 84, 88, 69...  \n",
       "16  [1, 11, 69, 95, 5, 100, 108, 5, 69, 84, 88, 69...  \n",
       "17  [1, 11, 69, 95, 5, 100, 108, 5, 69, 84, 88, 69...  \n",
       "18  [1, 11, 69, 95, 5, 100, 108, 5, 69, 84, 88, 69...  \n",
       "19  [1, 11, 69, 95, 5, 100, 108, 5, 69, 84, 88, 69...  "
      ]
     },
     "execution_count": 13,
     "metadata": {},
     "output_type": "execute_result"
    }
   ],
   "source": [
    "noise_examples = 5\n",
    "threshold = 0.95\n",
    "sample_size = 2\n",
    "padding = 25\n",
    "\n",
    "start = default_timer()\n",
    "\n",
    "preprocess = pd.DataFrame(opus[\"text\"].sample(n = sample_size))\\\n",
    ".assign(noisy_sentences = lambda df: df[\"text\"].map(lambda x:  [x] * 5 \\\n",
    "                                                    + [noise_maker(x, threshold) \n",
    "                                                       for i in range(noise_examples)]))\\\n",
    ".explode(\"noisy_sentences\")\\\n",
    ".assign(X = lambda df: df[\"noisy_sentences\"]\\\n",
    "        .map(text_to_ix)\\\n",
    "        .map(lambda x: pad(x, \n",
    "                           padding)),\n",
    "        Y = lambda df: df[\"text\"]\\\n",
    "        .map(text_to_ix)\\\n",
    "        .map(lambda x: pad(x, \n",
    "                           padding)))\\\n",
    ".reset_index(drop = True)\n",
    "\n",
    "print(default_timer() - start)\n",
    "\n",
    "print(preprocess.shape)\n",
    "preprocess.head(50)"
   ]
  },
  {
   "cell_type": "code",
   "execution_count": 14,
   "metadata": {},
   "outputs": [
    {
     "data": {
      "text/plain": [
       "count    20.0\n",
       "mean     25.0\n",
       "std       0.0\n",
       "min      25.0\n",
       "25%      25.0\n",
       "50%      25.0\n",
       "75%      25.0\n",
       "max      25.0\n",
       "Name: X, dtype: float64"
      ]
     },
     "execution_count": 14,
     "metadata": {},
     "output_type": "execute_result"
    }
   ],
   "source": [
    "preprocess[\"X\"].map(len).describe()"
   ]
  },
  {
   "cell_type": "code",
   "execution_count": 15,
   "metadata": {},
   "outputs": [
    {
     "data": {
      "text/plain": [
       "count    20.0\n",
       "mean     25.0\n",
       "std       0.0\n",
       "min      25.0\n",
       "25%      25.0\n",
       "50%      25.0\n",
       "75%      25.0\n",
       "max      25.0\n",
       "Name: Y, dtype: float64"
      ]
     },
     "execution_count": 15,
     "metadata": {},
     "output_type": "execute_result"
    }
   ],
   "source": [
    "preprocess[\"Y\"].map(len).describe()"
   ]
  },
  {
   "cell_type": "code",
   "execution_count": 16,
   "metadata": {},
   "outputs": [
    {
     "data": {
      "text/plain": [
       "torch.Size([20, 25])"
      ]
     },
     "execution_count": 16,
     "metadata": {},
     "output_type": "execute_result"
    }
   ],
   "source": [
    "X = torch.stack(preprocess[\"X\"].map(torch.tensor).to_list())\n",
    "X.shape"
   ]
  },
  {
   "cell_type": "code",
   "execution_count": 17,
   "metadata": {},
   "outputs": [
    {
     "data": {
      "text/plain": [
       "torch.Size([20, 25])"
      ]
     },
     "execution_count": 17,
     "metadata": {},
     "output_type": "execute_result"
    }
   ],
   "source": [
    "Y = torch.stack(preprocess[\"Y\"].map(torch.tensor).to_list())\n",
    "Y.shape"
   ]
  },
  {
   "cell_type": "markdown",
   "metadata": {},
   "source": [
    "# model"
   ]
  },
  {
   "cell_type": "code",
   "execution_count": 45,
   "metadata": {},
   "outputs": [
    {
     "name": "stderr",
     "output_type": "stream",
     "text": [
      "100%|██████████| 500/500 [00:18<00:00, 26.37it/s]\n"
     ]
    },
    {
     "name": "stdout",
     "output_type": "stream",
     "text": [
      "final loss: 0.02275429479777813\n"
     ]
    },
    {
     "data": {
      "image/png": "[encoded data removed]",
      "text/plain": [
       "<Figure size 432x288 with 1 Axes>"
      ]
     },
     "metadata": {
      "needs_background": "light"
     },
     "output_type": "display_data"
    },
    {
     "name": "stdout",
     "output_type": "stream",
     "text": [
      "<bos>A falta de las maravill<eos>\n",
      "<bos>\"\"\"\"\"\"\"\"\"\"\"\"\"\"\"\"\"\"\"\"\"\"\"\"\"\"\"\"\"\"\"\"\"\"\"\"\"\"\"\"\"\"\"\"\"\"\"\"\"\"\"\"\"\"\"\"\"\"\"\"\"\"\"\"\"\"\"\"\"\"\"\"\"\"\"\"\"\"\"\"\"\"\"\"\"\"\"\"\"\"\"\"\"\"\"\"\"\"\"\"\"\"\"\"\"\"\"\"\"\"\"\"\"\"\"\"\"\"\"\"\"\"\"\"\"\"\"\"\"\"\"\"\"\"\"\"\"\"\"\"\"\"\"\"\"\"\"\"\"\"\"\"\"\"\"\"\"\"\"\"\"\"\"\"\"\"\"\"\"\"\"\"\"\"\"\"\"\"\"\"\"\"\"\"\"\"\"\"\"\"\"\"\"\"\"\"\"\"\"\"\"\"\"\"\"\"\"\"\"\"\"\"\"\"\"\"\"\"\"\"\"\"\"\"\"\"\"\"\"\"\"\"\"\"\"\"\"\"\"\"\"\"\"\"\"\"\"\"\"\"\"\"\"\"\"\"\"\"\"\"\"\"\"\"\"\"\"\"\"\"\"\"\"\"\"\"\"\"\"\"\"\"\"\"\"\"\"\"\"\"\"\"\"\"\"\"\"\"\"\"\"\"\"\"\"\"\"\"\"\"\"\"\"\"\"\"\"\"\"\"\"\"\"\"\"\"\"\"\"\"\"\"\"\"\"\"\"\"\"\"\"\"\"\"\"\"\"\"\"\"\"\"\"\"\"\"\"\"\"\"\"\"\"\"\"\"\"\"\"\"\"\"\"\"\"\"\"\"\"\"\"\"\"\"\"\"\"\"\"\"\"\"\"\"\"\"\"\"\"\"\n"
     ]
    },
    {
     "data": {
      "text/plain": [
       "'<bos>A falta de las maravill<eos>'"
      ]
     },
     "execution_count": 45,
     "metadata": {},
     "output_type": "execute_result"
    }
   ],
   "source": [
    "class CharLSTM(nn.Module):\n",
    "    def __init__(self, embedding_dim, hidden_dim, vocabulary_size, layers):\n",
    "        super(CharLSTM, self).__init__()\n",
    "        self.embeddings = nn.Embedding(vocabulary_size, embedding_dim)\n",
    "        self.encoder = nn.LSTM(embedding_dim, hidden_dim, layers)\n",
    "        self.decoder = nn.LSTM(embedding_dim, hidden_dim, layers)\n",
    "        self.decoder_to_vocabulary = nn.Linear(hidden_dim, vocabulary_size)\n",
    "        self.vocabulary_size = vocabulary_size\n",
    "    \n",
    "    def forward(self, sentence, current_token):\n",
    "        embeddings = self.embeddings(sentence).transpose(0, 1)\n",
    "        sequence, hidden = self.encoder(embeddings)\n",
    "        current_token_embeddings = self.embeddings(current_token).transpose(0, 1)\n",
    "        chars, final_hidden = self.decoder(current_token_embeddings, hidden)\n",
    "        chars = self.decoder_to_vocabulary(chars).transpose(0, 1)\n",
    "        return chars.log_softmax(-1), final_hidden\n",
    "    \n",
    "    def fit(self, X, Y, lr = 0.1, epochs = 20):\n",
    "        loss_function = nn.NLLLoss()\n",
    "        optimizer = torch.optim.Adam(self.parameters(), lr)\n",
    "        losses = []\n",
    "        for i in tqdm(range(epochs)):\n",
    "            outputs, last_hidden = self(X, Y[:, :-1])\n",
    "            outputs = outputs.transpose(1, 2).squeeze()\n",
    "            loss = loss_function(outputs, Y[:, 1:])\n",
    "            loss.backward()\n",
    "            optimizer.step()\n",
    "            optimizer.zero_grad()\n",
    "            losses.append(loss.item())\n",
    "        print(\"final loss:\", losses[-1])\n",
    "        plt.axhline(0)\n",
    "        plt.plot(losses)\n",
    "        plt.show()\n",
    "        \n",
    "    def spellcheck(self, sentence, max_length = 400):\n",
    "        sentence = sentence.replace(\"<bos>\", \"\").replace(\"<eos>\", \"\").replace(\"<pad>\", \"\")\n",
    "        sentence = torch.tensor(text_to_ix(sentence))\n",
    "        sentence_embeddings = self.embeddings(sentence).unsqueeze(1)\n",
    "        sequence, hidden = self.encoder(sentence_embeddings)\n",
    "        output = [1]\n",
    "        for i in range(max_length):\n",
    "            current_token = self.embeddings(torch.tensor([output[-1]])).unsqueeze(1)\n",
    "            next_token, hidden = self.decoder(current_token, hidden)\n",
    "            next_token = self.decoder_to_vocabulary(next_token).argmax(-1).item()\n",
    "            output.append(next_token)\n",
    "            if next_token == 2 or next_token == 0:\n",
    "                break\n",
    "        return ix_to_text(output)\n",
    "\n",
    "    \n",
    "n = 16\n",
    "net = CharLSTM(n, n, len(char_to_ix), 2)\n",
    "test_string = ix_to_text(X[10].tolist())\n",
    "before_training = net.spellcheck(test_string)\n",
    "net.fit(X, Y, epochs = 500, lr = 0.01)\n",
    "\n",
    "\n",
    "print(test_string)\n",
    "print(before_training)\n",
    "net.spellcheck(test_string)"
   ]
  },
  {
   "cell_type": "code",
   "execution_count": 46,
   "metadata": {},
   "outputs": [
    {
     "data": {
      "text/plain": [
       "'<bos>A falta de las maravill<eos>'"
      ]
     },
     "execution_count": 46,
     "metadata": {},
     "output_type": "execute_result"
    }
   ],
   "source": [
    "net.spellcheck(\"<bos>A falta de lajfkdjfs maravilfdsafsdfasl<eos>\")"
   ]
  },
  {
   "cell_type": "code",
   "execution_count": 52,
   "metadata": {},
   "outputs": [
    {
     "data": {
      "text/plain": [
       "'<bos>vbÌuEJsíEJsY*ÌEJsO*iDD«ôÌO)EJsO*iDD«ôÌO)EJsO*iDD«ôÌO)EJsO*iDD«ôÌO)EJsO*iDD«ôÌO)EJsO*iDD«ôÌO)EJsO*iDD«ôÌO)EJsO*iDD«ôÌO)EJsO*iDD«ôÌO)EJsO*iDD«ôÌO)EJsO*iDD«ôÌO)EJsO*iDD«ôÌO)EJsO*iDD«ôÌO)EJsO*iDD«ôÌO)EJsO*iDD«ôÌO)EJsO*iDD«ôÌO)EJsO*iDD«ôÌO)EJsO*iDD«ôÌO)EJsO*iDD«ôÌO)EJsO*iDD«ôÌO)EJsO*iDD«ôÌO)EJsO*iDD«ôÌO)EJsO*iDD«ôÌO)EJsO*iDD«ôÌO)EJsO*iDD«ôÌO)EJsO*iDD«ôÌO)EJsO*iDD«ôÌO)EJsO*iDD«ôÌO)EJsO*iDD«ôÌO)EJsO*iDD«'"
      ]
     },
     "execution_count": 52,
     "metadata": {},
     "output_type": "execute_result"
    }
   ],
   "source": [
    "n = 128\n",
    "net = CharLSTM(n, n, len(char_to_ix), 1)\n",
    "net.spellcheck(test_string)"
   ]
  },
  {
   "cell_type": "code",
   "execution_count": 20,
   "metadata": {},
   "outputs": [
    {
     "name": "stdout",
     "output_type": "stream",
     "text": [
      "<bos>A falta de las maravill<eos>\n"
     ]
    },
    {
     "ename": "AttributeError",
     "evalue": "'tuple' object has no attribute 'argmax'",
     "output_type": "error",
     "traceback": [
      "\u001b[0;31m---------------------------------------------------------------------------\u001b[0m",
      "\u001b[0;31mAttributeError\u001b[0m                            Traceback (most recent call last)",
      "\u001b[0;32m<ipython-input-20-f35316e15657>\u001b[0m in \u001b[0;36m<module>\u001b[0;34m\u001b[0m\n\u001b[1;32m      2\u001b[0m \u001b[0mprint\u001b[0m\u001b[0;34m(\u001b[0m\u001b[0mix_to_text\u001b[0m\u001b[0;34m(\u001b[0m\u001b[0mX\u001b[0m\u001b[0;34m[\u001b[0m\u001b[0;34m:\u001b[0m\u001b[0mexample\u001b[0m\u001b[0;34m]\u001b[0m\u001b[0;34m[\u001b[0m\u001b[0;34m-\u001b[0m\u001b[0;36m1\u001b[0m\u001b[0;34m]\u001b[0m\u001b[0;34m.\u001b[0m\u001b[0mtolist\u001b[0m\u001b[0;34m(\u001b[0m\u001b[0;34m)\u001b[0m\u001b[0;34m)\u001b[0m\u001b[0;34m)\u001b[0m\u001b[0;34m\u001b[0m\u001b[0;34m\u001b[0m\u001b[0m\n\u001b[1;32m      3\u001b[0m \u001b[0;34m\u001b[0m\u001b[0m\n\u001b[0;32m----> 4\u001b[0;31m \u001b[0mprint\u001b[0m\u001b[0;34m(\u001b[0m\u001b[0mix_to_text\u001b[0m\u001b[0;34m(\u001b[0m\u001b[0mnet\u001b[0m\u001b[0;34m(\u001b[0m\u001b[0mX\u001b[0m\u001b[0;34m[\u001b[0m\u001b[0;34m:\u001b[0m\u001b[0mexample\u001b[0m\u001b[0;34m]\u001b[0m\u001b[0;34m,\u001b[0m \u001b[0mY\u001b[0m\u001b[0;34m[\u001b[0m\u001b[0;34m:\u001b[0m\u001b[0mexample\u001b[0m\u001b[0;34m]\u001b[0m\u001b[0;34m)\u001b[0m\u001b[0;34m.\u001b[0m\u001b[0margmax\u001b[0m\u001b[0;34m(\u001b[0m\u001b[0;36m2\u001b[0m\u001b[0;34m)\u001b[0m\u001b[0;34m[\u001b[0m\u001b[0;34m-\u001b[0m\u001b[0;36m1\u001b[0m\u001b[0;34m]\u001b[0m\u001b[0;34m.\u001b[0m\u001b[0mtolist\u001b[0m\u001b[0;34m(\u001b[0m\u001b[0;34m)\u001b[0m\u001b[0;34m)\u001b[0m\u001b[0;34m)\u001b[0m\u001b[0;34m\u001b[0m\u001b[0;34m\u001b[0m\u001b[0m\n\u001b[0m",
      "\u001b[0;31mAttributeError\u001b[0m: 'tuple' object has no attribute 'argmax'"
     ]
    }
   ],
   "source": [
    "example = 11\n",
    "print(ix_to_text(X[:example][-1].tolist()))\n",
    "\n",
    "print(ix_to_text(net(X[:example], Y[:example]).argmax(2)[-1].tolist()))"
   ]
  },
  {
   "cell_type": "code",
   "execution_count": null,
   "metadata": {},
   "outputs": [],
   "source": [
    "text_to_ix??"
   ]
  }
 ],
 "metadata": {
  "kernelspec": {
   "display_name": "Python 3",
   "language": "python",
   "name": "python3"
  },
  "language_info": {
   "codemirror_mode": {
    "name": "ipython",
    "version": 3
   },
   "file_extension": ".py",
   "mimetype": "text/x-python",
   "name": "python",
   "nbconvert_exporter": "python",
   "pygments_lexer": "ipython3",
   "version": "3.7.7"
  }
 },
 "nbformat": 4,
 "nbformat_minor": 4
}
