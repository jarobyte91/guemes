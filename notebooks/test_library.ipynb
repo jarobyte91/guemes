{
 "cells": [
  {
   "cell_type": "code",
   "execution_count": 1,
   "metadata": {},
   "outputs": [],
   "source": [
    "import pandas as pd\n",
    "import torch\n",
    "import torch.nn as nn\n",
    "import numpy as np\n",
    "import matplotlib.pyplot as plt\n",
    "from nltk.lm import Vocabulary\n",
    "from tqdm import tqdm\n",
    "from functools import reduce"
   ]
  },
  {
   "cell_type": "code",
   "execution_count": 2,
   "metadata": {},
   "outputs": [],
   "source": [
    "import sys\n",
    "sys.path.append('../scripts/')\n",
    "from char_lstm import CharLSTM, pad"
   ]
  },
  {
   "cell_type": "code",
   "execution_count": 3,
   "metadata": {},
   "outputs": [
    {
     "name": "stdout",
     "output_type": "stream",
     "text": [
      "(108017, 3)\n"
     ]
    },
    {
     "data": {
      "text/html": [
       "<div>\n",
       "<style scoped>\n",
       "    .dataframe tbody tr th:only-of-type {\n",
       "        vertical-align: middle;\n",
       "    }\n",
       "\n",
       "    .dataframe tbody tr th {\n",
       "        vertical-align: top;\n",
       "    }\n",
       "\n",
       "    .dataframe thead th {\n",
       "        text-align: right;\n",
       "    }\n",
       "</style>\n",
       "<table border=\"1\" class=\"dataframe\">\n",
       "  <thead>\n",
       "    <tr style=\"text-align: right;\">\n",
       "      <th></th>\n",
       "      <th>file</th>\n",
       "      <th>order</th>\n",
       "      <th>text</th>\n",
       "    </tr>\n",
       "  </thead>\n",
       "  <tbody>\n",
       "    <tr>\n",
       "      <th>0</th>\n",
       "      <td>Doyle_Arthur_Conan-Adventures_of_Sherlock_Holm...</td>\n",
       "      <td>0</td>\n",
       "      <td>Source: librosgratis.liblit.com/</td>\n",
       "    </tr>\n",
       "    <tr>\n",
       "      <th>1</th>\n",
       "      <td>Doyle_Arthur_Conan-Adventures_of_Sherlock_Holm...</td>\n",
       "      <td>1</td>\n",
       "      <td>LAS AVENTURAS DE SHERLOCK HOLMES</td>\n",
       "    </tr>\n",
       "    <tr>\n",
       "      <th>2</th>\n",
       "      <td>Doyle_Arthur_Conan-Adventures_of_Sherlock_Holm...</td>\n",
       "      <td>2</td>\n",
       "      <td>Arthur Conan Doyle</td>\n",
       "    </tr>\n",
       "    <tr>\n",
       "      <th>3</th>\n",
       "      <td>Doyle_Arthur_Conan-Adventures_of_Sherlock_Holm...</td>\n",
       "      <td>3</td>\n",
       "      <td>1.</td>\n",
       "    </tr>\n",
       "    <tr>\n",
       "      <th>4</th>\n",
       "      <td>Doyle_Arthur_Conan-Adventures_of_Sherlock_Holm...</td>\n",
       "      <td>4</td>\n",
       "      <td>Escándalo en Bohemia</td>\n",
       "    </tr>\n",
       "  </tbody>\n",
       "</table>\n",
       "</div>"
      ],
      "text/plain": [
       "                                                file  order  \\\n",
       "0  Doyle_Arthur_Conan-Adventures_of_Sherlock_Holm...      0   \n",
       "1  Doyle_Arthur_Conan-Adventures_of_Sherlock_Holm...      1   \n",
       "2  Doyle_Arthur_Conan-Adventures_of_Sherlock_Holm...      2   \n",
       "3  Doyle_Arthur_Conan-Adventures_of_Sherlock_Holm...      3   \n",
       "4  Doyle_Arthur_Conan-Adventures_of_Sherlock_Holm...      4   \n",
       "\n",
       "                               text  \n",
       "0  Source: librosgratis.liblit.com/  \n",
       "1  LAS AVENTURAS DE SHERLOCK HOLMES  \n",
       "2                Arthur Conan Doyle  \n",
       "3                                1.  \n",
       "4              Escándalo en Bohemia  "
      ]
     },
     "execution_count": 3,
     "metadata": {},
     "output_type": "execute_result"
    }
   ],
   "source": [
    "opus = pd.read_pickle(\"../data/raw/opus_sentences.pkl\")\n",
    "print(opus.shape)\n",
    "opus.head()"
   ]
  },
  {
   "cell_type": "code",
   "execution_count": 4,
   "metadata": {},
   "outputs": [],
   "source": [
    "vocabulary = set(\"\".join(opus[\"text\"].to_list()))"
   ]
  },
  {
   "cell_type": "code",
   "execution_count": 5,
   "metadata": {},
   "outputs": [
    {
     "data": {
      "text/plain": [
       "136"
      ]
     },
     "execution_count": 5,
     "metadata": {},
     "output_type": "execute_result"
    }
   ],
   "source": [
    "char_to_ix = {k:i for i, k in enumerate(vocabulary, 3)}\n",
    "char_to_ix[\"<pad>\"] = 0\n",
    "char_to_ix[\"<bos>\"] = 1\n",
    "char_to_ix[\"<eos>\"] = 2\n",
    "len(char_to_ix)"
   ]
  },
  {
   "cell_type": "code",
   "execution_count": 6,
   "metadata": {},
   "outputs": [],
   "source": [
    "ix_to_char = {char_to_ix[k]:k for k in char_to_ix.keys()}"
   ]
  },
  {
   "cell_type": "markdown",
   "metadata": {},
   "source": [
    "# generate training data"
   ]
  },
  {
   "cell_type": "code",
   "execution_count": 7,
   "metadata": {
    "scrolled": true
   },
   "outputs": [],
   "source": [
    "def text_to_ix(text):\n",
    "    return [1] + [char_to_ix[c] for c in text] + [2]"
   ]
  },
  {
   "cell_type": "code",
   "execution_count": 8,
   "metadata": {},
   "outputs": [],
   "source": [
    "def ix_to_text(ixs):\n",
    "    return \"\".join([ix_to_char[i] for i in ixs])"
   ]
  },
  {
   "cell_type": "code",
   "execution_count": 9,
   "metadata": {},
   "outputs": [
    {
     "data": {
      "text/plain": [
       "'Relocate, remov,e o`r add char«acters to create spelling mistakes'"
      ]
     },
     "execution_count": 9,
     "metadata": {},
     "output_type": "execute_result"
    }
   ],
   "source": [
    "letters = list(sorted(vocabulary))\n",
    "\n",
    "def noise_maker(sentence, threshold):\n",
    "    '''Relocate, remove, or add characters to create spelling mistakes'''\n",
    "    \n",
    "    noisy_sentence = []\n",
    "    i = 0\n",
    "    while i < len(sentence):\n",
    "        random = np.random.uniform(0,1,1)\n",
    "        # Most characters will be correct since the threshold value is high\n",
    "        if random < threshold:\n",
    "            noisy_sentence.append(sentence[i])\n",
    "        else:\n",
    "            new_random = np.random.uniform(0,1,1)\n",
    "            # ~33% chance characters will swap locations\n",
    "            if new_random > 0.67:\n",
    "                if i == (len(sentence) - 1):\n",
    "                    # If last character in sentence, it will not be typed\n",
    "                    continue\n",
    "                else:\n",
    "                    # if any other character, swap order with following character\n",
    "                    noisy_sentence.append(sentence[i+1])\n",
    "                    noisy_sentence.append(sentence[i])\n",
    "                    i += 1\n",
    "            # ~33% chance an extra lower case letter will be added to the sentence\n",
    "            elif new_random < 0.33:\n",
    "                random_letter = np.random.choice(letters, 1)[0]\n",
    "                #print(char_to_ix[random_letter])\n",
    "                noisy_sentence.append(random_letter)\n",
    "                #noisy_sentence.append(char_to_ix[random_letter])\n",
    "                noisy_sentence.append(sentence[i])\n",
    "            # ~33% chance a character will not be typed\n",
    "            else:\n",
    "                pass     \n",
    "        i += 1\n",
    "    #return noisy_sentence\n",
    "    return \"\".join(noisy_sentence)\n",
    "\n",
    "noise_maker(\"Relocate, remove, or add characters to create spelling mistakes\", 0.97)"
   ]
  },
  {
   "cell_type": "code",
   "execution_count": 10,
   "metadata": {},
   "outputs": [],
   "source": [
    "from timeit import default_timer"
   ]
  },
  {
   "cell_type": "code",
   "execution_count": 11,
   "metadata": {},
   "outputs": [
    {
     "data": {
      "text/plain": [
       "count    108017.000000\n",
       "mean        108.709648\n",
       "std          98.915442\n",
       "min           1.000000\n",
       "0%            1.000000\n",
       "10%          22.000000\n",
       "20%          35.000000\n",
       "30%          49.000000\n",
       "40%          65.000000\n",
       "50%          83.000000\n",
       "60%         103.000000\n",
       "70%         129.000000\n",
       "80%         163.000000\n",
       "90%         222.000000\n",
       "max        2249.000000\n",
       "Name: text, dtype: float64"
      ]
     },
     "execution_count": 11,
     "metadata": {},
     "output_type": "execute_result"
    }
   ],
   "source": [
    "opus[\"text\"].map(len).describe(percentiles = np.arange(0, 1, 0.1))"
   ]
  },
  {
   "cell_type": "code",
   "execution_count": 12,
   "metadata": {},
   "outputs": [
    {
     "data": {
      "text/plain": [
       "<matplotlib.axes._subplots.AxesSubplot at 0x7f83b22bead0>"
      ]
     },
     "execution_count": 12,
     "metadata": {},
     "output_type": "execute_result"
    },
    {
     "data": {
      "image/png": "[encoded data removed]",
      "text/plain": [
       "<Figure size 432x288 with 1 Axes>"
      ]
     },
     "metadata": {
      "needs_background": "light"
     },
     "output_type": "display_data"
    }
   ],
   "source": [
    "opus[\"text\"].map(len).plot.hist(bins = 50)"
   ]
  },
  {
   "cell_type": "code",
   "execution_count": 13,
   "metadata": {},
   "outputs": [
    {
     "name": "stdout",
     "output_type": "stream",
     "text": [
      "0.09756085899789468\n",
      "(120, 4)\n"
     ]
    },
    {
     "data": {
      "text/html": [
       "<div>\n",
       "<style scoped>\n",
       "    .dataframe tbody tr th:only-of-type {\n",
       "        vertical-align: middle;\n",
       "    }\n",
       "\n",
       "    .dataframe tbody tr th {\n",
       "        vertical-align: top;\n",
       "    }\n",
       "\n",
       "    .dataframe thead th {\n",
       "        text-align: right;\n",
       "    }\n",
       "</style>\n",
       "<table border=\"1\" class=\"dataframe\">\n",
       "  <thead>\n",
       "    <tr style=\"text-align: right;\">\n",
       "      <th></th>\n",
       "      <th>text</th>\n",
       "      <th>noisy_sentences</th>\n",
       "      <th>X</th>\n",
       "      <th>Y</th>\n",
       "    </tr>\n",
       "  </thead>\n",
       "  <tbody>\n",
       "    <tr>\n",
       "      <th>0</th>\n",
       "      <td>Llegó la nube, le alcanzó y el montón de heno ...</td>\n",
       "      <td>Llegó la nube, le alcanzó y el montón de heno ...</td>\n",
       "      <td>[1, 73, 51, 25, 68, 41, 100, 51, 31, 100, 47, ...</td>\n",
       "      <td>[1, 73, 51, 25, 68, 41, 100, 51, 31, 100, 47, ...</td>\n",
       "    </tr>\n",
       "    <tr>\n",
       "      <th>1</th>\n",
       "      <td>Llegó la nube, le alcanzó y el montón de heno ...</td>\n",
       "      <td>Llegó la nube, le alcanzó y el montón de heno ...</td>\n",
       "      <td>[1, 73, 51, 25, 68, 41, 100, 51, 31, 100, 47, ...</td>\n",
       "      <td>[1, 73, 51, 25, 68, 41, 100, 51, 31, 100, 47, ...</td>\n",
       "    </tr>\n",
       "    <tr>\n",
       "      <th>2</th>\n",
       "      <td>Llegó la nube, le alcanzó y el montón de heno ...</td>\n",
       "      <td>Llegó la nube, le alcanzó y el montón de heno ...</td>\n",
       "      <td>[1, 73, 51, 25, 68, 41, 100, 51, 31, 100, 47, ...</td>\n",
       "      <td>[1, 73, 51, 25, 68, 41, 100, 51, 31, 100, 47, ...</td>\n",
       "    </tr>\n",
       "    <tr>\n",
       "      <th>3</th>\n",
       "      <td>Llegó la nube, le alcanzó y el montón de heno ...</td>\n",
       "      <td>Llegó la nube, le alcanzó y el montón de heno ...</td>\n",
       "      <td>[1, 73, 51, 25, 68, 41, 100, 51, 31, 100, 47, ...</td>\n",
       "      <td>[1, 73, 51, 25, 68, 41, 100, 51, 31, 100, 47, ...</td>\n",
       "    </tr>\n",
       "    <tr>\n",
       "      <th>4</th>\n",
       "      <td>Llegó la nube, le alcanzó y el montón de heno ...</td>\n",
       "      <td>Llegó la nube, le alcanzó y el montón de heno ...</td>\n",
       "      <td>[1, 73, 51, 25, 68, 41, 100, 51, 31, 100, 47, ...</td>\n",
       "      <td>[1, 73, 51, 25, 68, 41, 100, 51, 31, 100, 47, ...</td>\n",
       "    </tr>\n",
       "  </tbody>\n",
       "</table>\n",
       "</div>"
      ],
      "text/plain": [
       "                                                text  \\\n",
       "0  Llegó la nube, le alcanzó y el montón de heno ...   \n",
       "1  Llegó la nube, le alcanzó y el montón de heno ...   \n",
       "2  Llegó la nube, le alcanzó y el montón de heno ...   \n",
       "3  Llegó la nube, le alcanzó y el montón de heno ...   \n",
       "4  Llegó la nube, le alcanzó y el montón de heno ...   \n",
       "\n",
       "                                     noisy_sentences  \\\n",
       "0  Llegó la nube, le alcanzó y el montón de heno ...   \n",
       "1  Llegó la nube, le alcanzó y el montón de heno ...   \n",
       "2  Llegó la nube, le alcanzó y el montón de heno ...   \n",
       "3  Llegó la nube, le alcanzó y el montón de heno ...   \n",
       "4  Llegó la nube, le alcanzó y el montón de heno ...   \n",
       "\n",
       "                                                   X  \\\n",
       "0  [1, 73, 51, 25, 68, 41, 100, 51, 31, 100, 47, ...   \n",
       "1  [1, 73, 51, 25, 68, 41, 100, 51, 31, 100, 47, ...   \n",
       "2  [1, 73, 51, 25, 68, 41, 100, 51, 31, 100, 47, ...   \n",
       "3  [1, 73, 51, 25, 68, 41, 100, 51, 31, 100, 47, ...   \n",
       "4  [1, 73, 51, 25, 68, 41, 100, 51, 31, 100, 47, ...   \n",
       "\n",
       "                                                   Y  \n",
       "0  [1, 73, 51, 25, 68, 41, 100, 51, 31, 100, 47, ...  \n",
       "1  [1, 73, 51, 25, 68, 41, 100, 51, 31, 100, 47, ...  \n",
       "2  [1, 73, 51, 25, 68, 41, 100, 51, 31, 100, 47, ...  \n",
       "3  [1, 73, 51, 25, 68, 41, 100, 51, 31, 100, 47, ...  \n",
       "4  [1, 73, 51, 25, 68, 41, 100, 51, 31, 100, 47, ...  "
      ]
     },
     "execution_count": 13,
     "metadata": {},
     "output_type": "execute_result"
    }
   ],
   "source": [
    "noise_examples = 5\n",
    "threshold = 0.95\n",
    "sample_size = 12\n",
    "\n",
    "start = default_timer()\n",
    "\n",
    "preprocess = pd.DataFrame(opus[\"text\"].sample(n = sample_size))\\\n",
    ".assign(noisy_sentences = lambda df: df[\"text\"].map(lambda x:  [x] * 5 \\\n",
    "                                                    + [noise_maker(x, threshold) \n",
    "                                                       for i in range(noise_examples)]))\\\n",
    ".explode(\"noisy_sentences\")\\\n",
    ".assign(X = lambda df: df[\"noisy_sentences\"].map(text_to_ix),\n",
    "        Y = lambda df: df[\"text\"].map(text_to_ix))\\\n",
    ".reset_index(drop = True)\n",
    "\n",
    "print(default_timer() - start)\n",
    "\n",
    "print(preprocess.shape)\n",
    "preprocess.head()"
   ]
  },
  {
   "cell_type": "code",
   "execution_count": 14,
   "metadata": {},
   "outputs": [
    {
     "data": {
      "text/plain": [
       "count    120.000000\n",
       "mean     116.883333\n",
       "std       67.051364\n",
       "min        8.000000\n",
       "25%       81.000000\n",
       "50%      112.000000\n",
       "75%      133.000000\n",
       "max      289.000000\n",
       "Name: X, dtype: float64"
      ]
     },
     "execution_count": 14,
     "metadata": {},
     "output_type": "execute_result"
    }
   ],
   "source": [
    "preprocess[\"X\"].map(len).describe()"
   ]
  },
  {
   "cell_type": "code",
   "execution_count": 15,
   "metadata": {},
   "outputs": [
    {
     "data": {
      "text/plain": [
       "count    120.000000\n",
       "mean     117.000000\n",
       "std       67.163415\n",
       "min        9.000000\n",
       "25%       80.750000\n",
       "50%      113.000000\n",
       "75%      132.750000\n",
       "max      284.000000\n",
       "Name: Y, dtype: float64"
      ]
     },
     "execution_count": 15,
     "metadata": {},
     "output_type": "execute_result"
    }
   ],
   "source": [
    "preprocess[\"Y\"].map(len).describe()"
   ]
  },
  {
   "cell_type": "markdown",
   "metadata": {},
   "source": [
    "# model"
   ]
  },
  {
   "cell_type": "code",
   "execution_count": 16,
   "metadata": {},
   "outputs": [
    {
     "name": "stderr",
     "output_type": "stream",
     "text": [
      "100%|██████████| 20/20 [00:16<00:00,  1.24it/s]"
     ]
    },
    {
     "name": "stdout",
     "output_type": "stream",
     "text": [
      "Final loss: 1.633560299873352\n"
     ]
    },
    {
     "name": "stderr",
     "output_type": "stream",
     "text": [
      "\n"
     ]
    },
    {
     "data": {
      "image/png": "[encoded data removed]",
      "text/plain": [
       "<Figure size 432x288 with 1 Axes>"
      ]
     },
     "metadata": {
      "needs_background": "light"
     },
     "output_type": "display_data"
    }
   ],
   "source": [
    "n = 16\n",
    "net = CharLSTM(n, n, len(char_to_ix), 2)\n",
    "losses = net.fit(preprocess[\"X\"].values, preprocess[\"Y\"].values)"
   ]
  },
  {
   "cell_type": "code",
   "execution_count": 17,
   "metadata": {},
   "outputs": [
    {
     "name": "stdout",
     "output_type": "stream",
     "text": [
      "Final loss: 1.5735361576080322\n"
     ]
    },
    {
     "data": {
      "image/png": "[encoded data removed]",
      "text/plain": [
       "<Figure size 432x288 with 1 Axes>"
      ]
     },
     "metadata": {
      "needs_background": "light"
     },
     "output_type": "display_data"
    }
   ],
   "source": [
    "n = 16\n",
    "net = CharLSTM(n, n, len(char_to_ix), 2)\n",
    "losses = net.fit(preprocess[\"X\"].values, preprocess[\"Y\"].values, verbose = False)"
   ]
  },
  {
   "cell_type": "code",
   "execution_count": 20,
   "metadata": {},
   "outputs": [
    {
     "name": "stderr",
     "output_type": "stream",
     "text": [
      "100%|██████████| 20/20 [01:18<00:00,  3.92s/it]"
     ]
    },
    {
     "name": "stdout",
     "output_type": "stream",
     "text": [
      "Final loss: 0.9161575585603714\n"
     ]
    },
    {
     "name": "stderr",
     "output_type": "stream",
     "text": [
      "\n"
     ]
    },
    {
     "data": {
      "image/png": "[encoded data removed]",
      "text/plain": [
       "<Figure size 432x288 with 1 Axes>"
      ]
     },
     "metadata": {
      "needs_background": "light"
     },
     "output_type": "display_data"
    }
   ],
   "source": [
    "n = 16\n",
    "net = CharLSTM(n, n, len(char_to_ix), 2)\n",
    "losses = net.fit_batch(preprocess[\"X\"].values, preprocess[\"Y\"].values)"
   ]
  },
  {
   "cell_type": "code",
   "execution_count": 23,
   "metadata": {},
   "outputs": [
    {
     "name": "stderr",
     "output_type": "stream",
     "text": [
      "100%|██████████| 20/20 [01:15<00:00,  3.79s/it]"
     ]
    },
    {
     "name": "stdout",
     "output_type": "stream",
     "text": [
      "Final loss: 0.7655406668782234\n"
     ]
    },
    {
     "name": "stderr",
     "output_type": "stream",
     "text": [
      "\n"
     ]
    },
    {
     "data": {
      "image/png": "[encoded data removed]",
      "text/plain": [
       "<Figure size 432x288 with 1 Axes>"
      ]
     },
     "metadata": {
      "needs_background": "light"
     },
     "output_type": "display_data"
    }
   ],
   "source": [
    "n = 16\n",
    "net = CharLSTM(n, n, len(char_to_ix), 2)\n",
    "losses = net.fit_batch(preprocess[\"X\"].values, preprocess[\"Y\"].values, save_path = \"test_path.pt\")"
   ]
  },
  {
   "cell_type": "code",
   "execution_count": 24,
   "metadata": {},
   "outputs": [
    {
     "name": "stdout",
     "output_type": "stream",
     "text": [
      "Final loss: 0.7677256042758623\n"
     ]
    },
    {
     "data": {
      "image/png": "[encoded data removed]",
      "text/plain": [
       "<Figure size 432x288 with 1 Axes>"
      ]
     },
     "metadata": {
      "needs_background": "light"
     },
     "output_type": "display_data"
    }
   ],
   "source": [
    "n = 16\n",
    "net = CharLSTM(n, n, len(char_to_ix), 2)\n",
    "losses = net.fit_batch(preprocess[\"X\"].values, preprocess[\"Y\"].values, \n",
    "                       verbose = False)"
   ]
  },
  {
   "cell_type": "code",
   "execution_count": 21,
   "metadata": {},
   "outputs": [
    {
     "data": {
      "text/plain": [
       "torch.Size([120, 136, 283])"
      ]
     },
     "execution_count": 21,
     "metadata": {},
     "output_type": "execute_result"
    }
   ],
   "source": [
    "net.predict(preprocess[\"X\"].values, preprocess[\"Y\"].values).shape"
   ]
  },
  {
   "cell_type": "code",
   "execution_count": 22,
   "metadata": {},
   "outputs": [
    {
     "data": {
      "text/plain": [
       "[torch.Size([10, 136, 283]),\n",
       " torch.Size([10, 136, 43]),\n",
       " torch.Size([10, 136, 114]),\n",
       " torch.Size([10, 136, 8]),\n",
       " torch.Size([10, 136, 110]),\n",
       " torch.Size([10, 136, 79]),\n",
       " torch.Size([10, 136, 137]),\n",
       " torch.Size([10, 136, 100]),\n",
       " torch.Size([10, 136, 80]),\n",
       " torch.Size([10, 136, 130]),\n",
       " torch.Size([10, 136, 120]),\n",
       " torch.Size([10, 136, 188])]"
      ]
     },
     "execution_count": 22,
     "metadata": {},
     "output_type": "execute_result"
    }
   ],
   "source": [
    "[b.shape for b in net.predict_batch(preprocess[\"X\"].values, preprocess[\"Y\"].values)]"
   ]
  }
 ],
 "metadata": {
  "kernelspec": {
   "display_name": "Python 3",
   "language": "python",
   "name": "python3"
  },
  "language_info": {
   "codemirror_mode": {
    "name": "ipython",
    "version": 3
   },
   "file_extension": ".py",
   "mimetype": "text/x-python",
   "name": "python",
   "nbconvert_exporter": "python",
   "pygments_lexer": "ipython3",
   "version": "3.7.7"
  }
 },
 "nbformat": 4,
 "nbformat_minor": 4
}
