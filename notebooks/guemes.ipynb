{
 "cells": [
  {
   "cell_type": "code",
   "execution_count": 1,
   "metadata": {},
   "outputs": [],
   "source": [
    "import os\n",
    "import subprocess as sp\n",
    "import pickle\n",
    "import re\n",
    "import pandas as pd\n",
    "import matplotlib.pyplot as plt\n",
    "from nltk.tokenize import sent_tokenize, word_tokenize\n",
    "from nltk.lm import Vocabulary"
   ]
  },
  {
   "cell_type": "code",
   "execution_count": 2,
   "metadata": {},
   "outputs": [],
   "source": [
    "pdf_folder = \"data/raw/guemes/pdf\"\n",
    "txt_folder = \"data/raw/guemes/text\""
   ]
  },
  {
   "cell_type": "code",
   "execution_count": 3,
   "metadata": {},
   "outputs": [
    {
     "data": {
      "text/plain": [
       "['g_documentado01.pdf',\n",
       " 'g_documentado02.pdf',\n",
       " 'g_documentado03.pdf',\n",
       " 'g_documentado04.pdf',\n",
       " 'g_documentado05.pdf',\n",
       " 'g_documentado06.pdf',\n",
       " 'g_documentado07.pdf',\n",
       " 'g_documentado08.pdf',\n",
       " 'g_documentado09.pdf',\n",
       " 'g_documentado10.pdf',\n",
       " 'g_documentado11.pdf',\n",
       " 'g_documentado12.pdf']"
      ]
     },
     "execution_count": 3,
     "metadata": {},
     "output_type": "execute_result"
    }
   ],
   "source": [
    "files = sorted(os.listdir(pdf_folder))\n",
    "files"
   ]
  },
  {
   "cell_type": "code",
   "execution_count": 4,
   "metadata": {},
   "outputs": [
    {
     "data": {
      "text/plain": [
       "'data/raw/guemes/pdf/g_documentado01.pdf'"
      ]
     },
     "execution_count": 4,
     "metadata": {},
     "output_type": "execute_result"
    }
   ],
   "source": [
    "os.path.join(pdf_folder, files[0])"
   ]
  },
  {
   "cell_type": "code",
   "execution_count": 5,
   "metadata": {},
   "outputs": [
    {
     "data": {
      "text/plain": [
       "CompletedProcess(args=['pdftotext', 'data/raw/guemes/pdf/g_documentado01.pdf', 'data/raw/guemes/text/g_documentado01.txt'], returncode=0)"
      ]
     },
     "execution_count": 5,
     "metadata": {},
     "output_type": "execute_result"
    }
   ],
   "source": [
    "p = sp.run([\"pdftotext\", os.path.join(pdf_folder, files[0]), os.path.join(txt_folder, files[0][:-4] + \".txt\")])\n",
    "p"
   ]
  },
  {
   "cell_type": "code",
   "execution_count": 6,
   "metadata": {},
   "outputs": [
    {
     "data": {
      "text/plain": [
       "0"
      ]
     },
     "execution_count": 6,
     "metadata": {},
     "output_type": "execute_result"
    }
   ],
   "source": [
    "p.returncode"
   ]
  },
  {
   "cell_type": "code",
   "execution_count": 7,
   "metadata": {},
   "outputs": [
    {
     "name": "stdout",
     "output_type": "stream",
     "text": [
      "g_documentado01.pdf 0\n",
      "g_documentado02.pdf 0\n",
      "g_documentado03.pdf 0\n",
      "g_documentado04.pdf 0\n",
      "g_documentado05.pdf 0\n",
      "g_documentado06.pdf 0\n",
      "g_documentado07.pdf 0\n",
      "g_documentado08.pdf 0\n",
      "g_documentado09.pdf 0\n",
      "g_documentado10.pdf 0\n",
      "g_documentado11.pdf 0\n",
      "g_documentado12.pdf 0\n"
     ]
    }
   ],
   "source": [
    "for f in files:\n",
    "    p = sp.run([\"pdftotext\", \n",
    "                os.path.join(pdf_folder, f), \n",
    "                os.path.join(txt_folder, f[:-4] + \".txt\")])\n",
    "    print(f, p.returncode) "
   ]
  },
  {
   "cell_type": "code",
   "execution_count": 8,
   "metadata": {},
   "outputs": [
    {
     "name": "stdout",
     "output_type": "stream",
     "text": [
      "g_documentado01.txt\n",
      "g_documentado02.txt\n",
      "g_documentado03.txt\n",
      "g_documentado04.txt\n",
      "g_documentado05.txt\n",
      "g_documentado06.txt\n",
      "g_documentado07.txt\n",
      "g_documentado08.txt\n",
      "g_documentado09.txt\n",
      "g_documentado10.txt\n",
      "g_documentado11.txt\n",
      "g_documentado12.txt\n"
     ]
    },
    {
     "data": {
      "text/plain": [
       "'\\x0cLUIS GÜEMES\\n\\nPLUS ULTRA\\n\\nTOMO 1\\n\\n\\x0cEl retrato de Güemes que aparece en la tapa, fue reconocido\\ncomo '"
      ]
     },
     "execution_count": 8,
     "metadata": {},
     "output_type": "execute_result"
    }
   ],
   "source": [
    "text = []\n",
    "for f in sorted(os.listdir(txt_folder)):\n",
    "    with open(os.path.join(txt_folder, f)) as file:\n",
    "        text.append(file.read())\n",
    "    print(f)\n",
    "    \n",
    "text[0][:100]"
   ]
  },
  {
   "cell_type": "code",
   "execution_count": 9,
   "metadata": {},
   "outputs": [
    {
     "data": {
      "text/plain": [
       "[str, str, str, str, str, str, str, str, str, str, str, str]"
      ]
     },
     "execution_count": 9,
     "metadata": {},
     "output_type": "execute_result"
    }
   ],
   "source": [
    "[type(x) for x in text]"
   ]
  },
  {
   "cell_type": "code",
   "execution_count": 10,
   "metadata": {},
   "outputs": [
    {
     "data": {
      "text/html": [
       "<div>\n",
       "<style scoped>\n",
       "    .dataframe tbody tr th:only-of-type {\n",
       "        vertical-align: middle;\n",
       "    }\n",
       "\n",
       "    .dataframe tbody tr th {\n",
       "        vertical-align: top;\n",
       "    }\n",
       "\n",
       "    .dataframe thead th {\n",
       "        text-align: right;\n",
       "    }\n",
       "</style>\n",
       "<table border=\"1\" class=\"dataframe\">\n",
       "  <thead>\n",
       "    <tr style=\"text-align: right;\">\n",
       "      <th></th>\n",
       "      <th>text</th>\n",
       "    </tr>\n",
       "  </thead>\n",
       "  <tbody>\n",
       "    <tr>\n",
       "      <th>0</th>\n",
       "      <td>LUIS GÜEMES\\n\\nPLUS ULTRA\\n\\nTOMO 1\\n\\n\f",
       "El re...</td>\n",
       "    </tr>\n",
       "    <tr>\n",
       "      <th>1</th>\n",
       "      <td>1\\n\\nLUIS GUEMES\\n\\nPLUS ULTRA\\n\\nGUEMES\\nOOC...</td>\n",
       "    </tr>\n",
       "    <tr>\n",
       "      <th>2</th>\n",
       "      <td>LUIS GUEMES\\n\\n@.\\nPLUS ULTRA\\n\\nTOMO 3\\n\\n\f",
       "E ...</td>\n",
       "    </tr>\n",
       "    <tr>\n",
       "      <th>3</th>\n",
       "      <td>LUIS GUEMES\\n\\nPLUS ULTRA\\n\\nGUEMES\\nDOCUMENT...</td>\n",
       "    </tr>\n",
       "    <tr>\n",
       "      <th>4</th>\n",
       "      <td>LUIS GUEMES\\n\\nPLUS ULTRA\\n\\nGUEMES\\nOCUMENTA...</td>\n",
       "    </tr>\n",
       "  </tbody>\n",
       "</table>\n",
       "</div>"
      ],
      "text/plain": [
       "                                                text\n",
       "0  \n",
       "LUIS GÜEMES\\n\\nPLUS ULTRA\\n\\nTOMO 1\\n\\n\n",
       "El re...\n",
       "1  \n",
       "1\\n\\nLUIS GUEMES\\n\\nPLUS ULTRA\\n\\nGUEMES\\nOOC...\n",
       "2  LUIS GUEMES\\n\\n@.\\nPLUS ULTRA\\n\\nTOMO 3\\n\\n\n",
       "E ...\n",
       "3  \n",
       "LUIS GUEMES\\n\\nPLUS ULTRA\\n\\nGUEMES\\nDOCUMENT...\n",
       "4  \n",
       "LUIS GUEMES\\n\\nPLUS ULTRA\\n\\nGUEMES\\nOCUMENTA..."
      ]
     },
     "execution_count": 10,
     "metadata": {},
     "output_type": "execute_result"
    }
   ],
   "source": [
    "info = pd.DataFrame(pd.Series(text), columns = [\"text\"])\n",
    "info.head()"
   ]
  },
  {
   "cell_type": "code",
   "execution_count": 11,
   "metadata": {},
   "outputs": [
    {
     "data": {
      "text/plain": [
       "0     1,185,163.0\n",
       "1     1,142,314.0\n",
       "2     1,085,642.0\n",
       "3       971,892.0\n",
       "4       961,392.0\n",
       "5     1,156,215.0\n",
       "6       948,264.0\n",
       "7       873,687.0\n",
       "8     1,036,374.0\n",
       "9     1,038,678.0\n",
       "10    1,136,855.0\n",
       "11      801,370.0\n",
       "Name: text, dtype: object"
      ]
     },
     "execution_count": 11,
     "metadata": {},
     "output_type": "execute_result"
    }
   ],
   "source": [
    "# number of characters in each tome\n",
    "\n",
    "info[\"text\"].map(len).map(lambda x: \"{:,.1f}\".format(x))"
   ]
  },
  {
   "cell_type": "code",
   "execution_count": 12,
   "metadata": {},
   "outputs": [
    {
     "data": {
      "text/plain": [
       "['\\x0cLUIS GÜEMES\\n\\nPLUS ULTRA\\n\\nTOMO 1\\n\\n\\x0cEl retrato de Güemes que aparece en la tapa, fue reconocido\\ncomo el más fidedigno por el Poder Ejecutivo de Salta, el 5 de\\njunio de 1965 previa consulta a \"eminentes autoridades en la materia, como el doctor Luis Güemes (biznieto del héroe) y el doctor\\nAtilio Cornejo\".',\n",
       " 'Y \"por ello el Gobernador de la Provincia decreta:\\nArtículo 10-Dispónese la certificación y declárase legalizado\\nel retrato del general Martín Miguel de Güemes, realizado por el\\nafamado artista don Eduardo Schiaffino, en mérito a las consideraciones expuestas precedentemente\".',\n",
       " 'FRANCISCO\\nM. GUEIIIES\\n\\nQueda hecho el depósito que previene la ley 11.723\\nImpreso en l a Argentina - Printed in Argentina\\nQ 1979 by Editorial PLUS ULTRA\\nVIAMONTE 1755, 1055 Buenos Aires\\n\\n\\x0cINDICE\\n\\nPAG.',\n",
       " 'Al lector .',\n",
       " 'Aclaraciones\\n\\n.',\n",
       " '.',\n",
       " '.',\n",
       " '.',\n",
       " '.',\n",
       " '.']"
      ]
     },
     "execution_count": 12,
     "metadata": {},
     "output_type": "execute_result"
    }
   ],
   "source": [
    "x = sent_tokenize(info[\"text\"][0])\n",
    "x[:10]"
   ]
  },
  {
   "cell_type": "code",
   "execution_count": 13,
   "metadata": {},
   "outputs": [
    {
     "data": {
      "text/html": [
       "<div>\n",
       "<style scoped>\n",
       "    .dataframe tbody tr th:only-of-type {\n",
       "        vertical-align: middle;\n",
       "    }\n",
       "\n",
       "    .dataframe tbody tr th {\n",
       "        vertical-align: top;\n",
       "    }\n",
       "\n",
       "    .dataframe thead th {\n",
       "        text-align: right;\n",
       "    }\n",
       "</style>\n",
       "<table border=\"1\" class=\"dataframe\">\n",
       "  <thead>\n",
       "    <tr style=\"text-align: right;\">\n",
       "      <th></th>\n",
       "      <th>tome</th>\n",
       "      <th>order</th>\n",
       "      <th>text</th>\n",
       "    </tr>\n",
       "  </thead>\n",
       "  <tbody>\n",
       "    <tr>\n",
       "      <th>0</th>\n",
       "      <td>1</td>\n",
       "      <td>0</td>\n",
       "      <td>LUIS GÜEMES\\n\\nPLUS ULTRA\\n\\nTOMO 1\\n\\n\f",
       "El re...</td>\n",
       "    </tr>\n",
       "    <tr>\n",
       "      <th>1</th>\n",
       "      <td>1</td>\n",
       "      <td>1</td>\n",
       "      <td>Y \"por ello el Gobernador de la Provincia decr...</td>\n",
       "    </tr>\n",
       "    <tr>\n",
       "      <th>2</th>\n",
       "      <td>1</td>\n",
       "      <td>2</td>\n",
       "      <td>FRANCISCO\\nM. GUEIIIES\\n\\nQueda hecho el depós...</td>\n",
       "    </tr>\n",
       "    <tr>\n",
       "      <th>3</th>\n",
       "      <td>1</td>\n",
       "      <td>3</td>\n",
       "      <td>Al lector .</td>\n",
       "    </tr>\n",
       "    <tr>\n",
       "      <th>4</th>\n",
       "      <td>1</td>\n",
       "      <td>4</td>\n",
       "      <td>Aclaraciones\\n\\n.</td>\n",
       "    </tr>\n",
       "    <tr>\n",
       "      <th>5</th>\n",
       "      <td>1</td>\n",
       "      <td>5</td>\n",
       "      <td>.</td>\n",
       "    </tr>\n",
       "    <tr>\n",
       "      <th>6</th>\n",
       "      <td>1</td>\n",
       "      <td>6</td>\n",
       "      <td>.</td>\n",
       "    </tr>\n",
       "    <tr>\n",
       "      <th>7</th>\n",
       "      <td>1</td>\n",
       "      <td>7</td>\n",
       "      <td>.</td>\n",
       "    </tr>\n",
       "    <tr>\n",
       "      <th>8</th>\n",
       "      <td>1</td>\n",
       "      <td>8</td>\n",
       "      <td>.</td>\n",
       "    </tr>\n",
       "    <tr>\n",
       "      <th>9</th>\n",
       "      <td>1</td>\n",
       "      <td>9</td>\n",
       "      <td>.</td>\n",
       "    </tr>\n",
       "  </tbody>\n",
       "</table>\n",
       "</div>"
      ],
      "text/plain": [
       "   tome  order                                               text\n",
       "0     1      0  \n",
       "LUIS GÜEMES\\n\\nPLUS ULTRA\\n\\nTOMO 1\\n\\n\n",
       "El re...\n",
       "1     1      1  Y \"por ello el Gobernador de la Provincia decr...\n",
       "2     1      2  FRANCISCO\\nM. GUEIIIES\\n\\nQueda hecho el depós...\n",
       "3     1      3                                        Al lector .\n",
       "4     1      4                                  Aclaraciones\\n\\n.\n",
       "5     1      5                                                  .\n",
       "6     1      6                                                  .\n",
       "7     1      7                                                  .\n",
       "8     1      8                                                  .\n",
       "9     1      9                                                  ."
      ]
     },
     "execution_count": 13,
     "metadata": {},
     "output_type": "execute_result"
    }
   ],
   "source": [
    "sentences = info[\"text\"]\\\n",
    ".map(lambda x: sent_tokenize(x))\\\n",
    ".map(lambda x: list(enumerate(x)))\\\n",
    ".explode()\\\n",
    ".reset_index()\\\n",
    ".assign(order = lambda df: df[\"text\"].map(lambda x: x[0]), \n",
    "        text = lambda df: df[\"text\"].map(lambda x: x[1]),\n",
    "        tome = lambda df: df[\"index\"] + 1)\\\n",
    ".drop(\"index\", axis = 1)\\\n",
    "[[\"tome\", \"order\", \"text\"]]\n",
    "\n",
    "sentences.head(10)"
   ]
  },
  {
   "cell_type": "code",
   "execution_count": 14,
   "metadata": {},
   "outputs": [
    {
     "data": {
      "text/plain": [
       "(129859, 3)"
      ]
     },
     "execution_count": 14,
     "metadata": {},
     "output_type": "execute_result"
    }
   ],
   "source": [
    "sentences.shape"
   ]
  },
  {
   "cell_type": "code",
   "execution_count": 15,
   "metadata": {},
   "outputs": [
    {
     "data": {
      "text/plain": [
       "tome\n",
       "1     16105\n",
       "2      8698\n",
       "3      9323\n",
       "4     10079\n",
       "5     10020\n",
       "6     15240\n",
       "7      5039\n",
       "8      9378\n",
       "9     12874\n",
       "10    10553\n",
       "11     7986\n",
       "12    14564\n",
       "Name: text, dtype: int64"
      ]
     },
     "execution_count": 15,
     "metadata": {},
     "output_type": "execute_result"
    }
   ],
   "source": [
    "# number of sentences per tome\n",
    "\n",
    "sentences.groupby(\"tome\").count()[\"text\"]"
   ]
  },
  {
   "cell_type": "code",
   "execution_count": 16,
   "metadata": {},
   "outputs": [
    {
     "data": {
      "text/plain": [
       "tome\n",
       "1     1,168,327\n",
       "2     1,132,814\n",
       "3     1,075,356\n",
       "4       960,970\n",
       "5       950,481\n",
       "6     1,139,681\n",
       "7       942,816\n",
       "8       863,446\n",
       "9     1,022,883\n",
       "10    1,027,769\n",
       "11    1,128,348\n",
       "12      785,702\n",
       "Name: length, dtype: object"
      ]
     },
     "execution_count": 16,
     "metadata": {},
     "output_type": "execute_result"
    }
   ],
   "source": [
    "# number of characters per tome\n",
    "\n",
    "sentences.assign(length = lambda df: df[\"text\"].map(len)).groupby(\"tome\").sum()\\\n",
    "[\"length\"].map(lambda x: \"{:,}\".format(x))"
   ]
  },
  {
   "cell_type": "markdown",
   "metadata": {},
   "source": [
    "# exploratory data analysis"
   ]
  },
  {
   "cell_type": "markdown",
   "metadata": {},
   "source": [
    "## sentence length"
   ]
  },
  {
   "cell_type": "code",
   "execution_count": 17,
   "metadata": {},
   "outputs": [
    {
     "data": {
      "text/plain": [
       "count    129859.000000\n",
       "mean         93.937217\n",
       "std         154.729286\n",
       "min           1.000000\n",
       "25%           7.000000\n",
       "50%          33.000000\n",
       "75%         118.000000\n",
       "max        5088.000000\n",
       "Name: text, dtype: float64"
      ]
     },
     "execution_count": 17,
     "metadata": {},
     "output_type": "execute_result"
    }
   ],
   "source": [
    "sentences[\"text\"].map(len).describe()"
   ]
  },
  {
   "cell_type": "code",
   "execution_count": 18,
   "metadata": {},
   "outputs": [
    {
     "data": {
      "text/plain": [
       "<matplotlib.axes._subplots.AxesSubplot at 0x7f296f522690>"
      ]
     },
     "execution_count": 18,
     "metadata": {},
     "output_type": "execute_result"
    },
    {
     "data": {
      "image/png": "[encoded data removed]",
      "text/plain": [
       "<Figure size 432x288 with 1 Axes>"
      ]
     },
     "metadata": {
      "needs_background": "light"
     },
     "output_type": "display_data"
    }
   ],
   "source": [
    "sentences[\"text\"].map(len).plot.hist(bins = 50)"
   ]
  },
  {
   "cell_type": "code",
   "execution_count": 19,
   "metadata": {},
   "outputs": [
    {
     "data": {
      "text/plain": [
       "<matplotlib.axes._subplots.AxesSubplot at 0x7f296fbf0f90>"
      ]
     },
     "execution_count": 19,
     "metadata": {},
     "output_type": "execute_result"
    },
    {
     "data": {
      "image/png": "[encoded data removed]",
      "text/plain": [
       "<Figure size 432x288 with 1 Axes>"
      ]
     },
     "metadata": {
      "needs_background": "light"
     },
     "output_type": "display_data"
    }
   ],
   "source": [
    "sentences[\"text\"].map(len).plot.hist(log = True, bins = 50)"
   ]
  },
  {
   "cell_type": "markdown",
   "metadata": {},
   "source": [
    "## character counts"
   ]
  },
  {
   "cell_type": "code",
   "execution_count": 20,
   "metadata": {},
   "outputs": [
    {
     "data": {
      "text/plain": [
       "     1976866\n",
       "e    1224027\n",
       "a     998312\n",
       "o     829697\n",
       "s     652243\n",
       "n     632788\n",
       "r     609616\n",
       "i     583953\n",
       "d     508753\n",
       "l     449436\n",
       "dtype: int64"
      ]
     },
     "execution_count": 20,
     "metadata": {},
     "output_type": "execute_result"
    }
   ],
   "source": [
    "char_counts = pd.Series(Vocabulary(\"\".join(text)).counts).sort_values(ascending = False)\n",
    "char_counts.head(10)"
   ]
  },
  {
   "cell_type": "code",
   "execution_count": 21,
   "metadata": {},
   "outputs": [
    {
     "data": {
      "text/plain": [
       "'12,337,846'"
      ]
     },
     "execution_count": 21,
     "metadata": {},
     "output_type": "execute_result"
    }
   ],
   "source": [
    "\"{:,}\".format(char_counts.sum())"
   ]
  },
  {
   "cell_type": "code",
   "execution_count": 22,
   "metadata": {},
   "outputs": [
    {
     "data": {
      "text/plain": [
       "count          117.0\n",
       "mean       105,451.7\n",
       "std        271,124.9\n",
       "min              2.0\n",
       "25%            797.0\n",
       "50%         13,257.0\n",
       "75%         45,278.0\n",
       "max      1,976,866.0\n",
       "dtype: object"
      ]
     },
     "execution_count": 22,
     "metadata": {},
     "output_type": "execute_result"
    }
   ],
   "source": [
    "char_counts.describe().map(lambda x: \"{:,.1f}\".format(x))"
   ]
  },
  {
   "cell_type": "code",
   "execution_count": 23,
   "metadata": {},
   "outputs": [
    {
     "data": {
      "text/plain": [
       "<matplotlib.axes._subplots.AxesSubplot at 0x7f29729b1dd0>"
      ]
     },
     "execution_count": 23,
     "metadata": {},
     "output_type": "execute_result"
    },
    {
     "data": {
      "image/png": "[encoded data removed]",
      "text/plain": [
       "<Figure size 1080x360 with 1 Axes>"
      ]
     },
     "metadata": {
      "needs_background": "light"
     },
     "output_type": "display_data"
    }
   ],
   "source": [
    "plt.figure(figsize = (15, 5))\n",
    "char_counts.plot.hist(bins = 200)"
   ]
  },
  {
   "cell_type": "code",
   "execution_count": 24,
   "metadata": {},
   "outputs": [
    {
     "data": {
      "text/plain": [
       "<matplotlib.axes._subplots.AxesSubplot at 0x7f296feb2190>"
      ]
     },
     "execution_count": 24,
     "metadata": {},
     "output_type": "execute_result"
    },
    {
     "data": {
      "image/png": "[encoded data removed]",
      "text/plain": [
       "<Figure size 1080x360 with 1 Axes>"
      ]
     },
     "metadata": {
      "needs_background": "light"
     },
     "output_type": "display_data"
    }
   ],
   "source": [
    "plt.figure(figsize = (15, 5))\n",
    "char_counts.plot.hist(bins = 200, log = True)"
   ]
  },
  {
   "cell_type": "code",
   "execution_count": 25,
   "metadata": {},
   "outputs": [
    {
     "data": {
      "text/plain": [
       "<matplotlib.axes._subplots.AxesSubplot at 0x7f296d0eb5d0>"
      ]
     },
     "execution_count": 25,
     "metadata": {},
     "output_type": "execute_result"
    },
    {
     "name": "stderr",
     "output_type": "stream",
     "text": [
      "/home/jarobyte/anaconda3/lib/python3.7/site-packages/matplotlib/backends/backend_agg.py:214: RuntimeWarning: Glyph 12 missing from current font.\n",
      "  font.set_text(s, 0.0, flags=flags)\n",
      "/home/jarobyte/anaconda3/lib/python3.7/site-packages/matplotlib/backends/backend_agg.py:183: RuntimeWarning: Glyph 12 missing from current font.\n",
      "  font.set_text(s, 0, flags=flags)\n"
     ]
    },
    {
     "data": {
      "image/png": "[encoded data removed]",
      "text/plain": [
       "<Figure size 1296x2160 with 1 Axes>"
      ]
     },
     "metadata": {
      "needs_background": "light"
     },
     "output_type": "display_data"
    }
   ],
   "source": [
    "plt.figure(figsize = (18, 30))\n",
    "char_counts.plot.barh()"
   ]
  },
  {
   "cell_type": "markdown",
   "metadata": {},
   "source": [
    "# vocabulary"
   ]
  },
  {
   "cell_type": "code",
   "execution_count": 26,
   "metadata": {},
   "outputs": [
    {
     "data": {
      "text/plain": [
       "0      LUIS\n",
       "0    GÜEMES\n",
       "0      PLUS\n",
       "0     ULTRA\n",
       "0      TOMO\n",
       "Name: text, dtype: object"
      ]
     },
     "execution_count": 26,
     "metadata": {},
     "output_type": "execute_result"
    }
   ],
   "source": [
    "words = sentences[\"text\"].map(lambda x: word_tokenize(x)).explode()\n",
    "words.head()"
   ]
  },
  {
   "cell_type": "code",
   "execution_count": 27,
   "metadata": {},
   "outputs": [
    {
     "data": {
      "text/plain": [
       "de      135518\n",
       ",       126367\n",
       ".       126207\n",
       "que      72100\n",
       "y        62714\n",
       "a        58887\n",
       "la       53355\n",
       "en       44942\n",
       "el       42776\n",
       "los      27498\n",
       "del      26113\n",
       "se       21727\n",
       "por      20739\n",
       "con      20512\n",
       ":        19400\n",
       "las      17181\n",
       "para     16212\n",
       "su       14498\n",
       ";        13463\n",
       "no       13234\n",
       "Name: text, dtype: int64"
      ]
     },
     "execution_count": 27,
     "metadata": {},
     "output_type": "execute_result"
    }
   ],
   "source": [
    "words.value_counts().head(20)"
   ]
  },
  {
   "cell_type": "code",
   "execution_count": 28,
   "metadata": {},
   "outputs": [
    {
     "data": {
      "text/plain": [
       "'2,491,448'"
      ]
     },
     "execution_count": 28,
     "metadata": {},
     "output_type": "execute_result"
    }
   ],
   "source": [
    "\"{:,}\".format(words.size)"
   ]
  },
  {
   "cell_type": "code",
   "execution_count": 29,
   "metadata": {},
   "outputs": [
    {
     "data": {
      "text/plain": [
       "'123,117'"
      ]
     },
     "execution_count": 29,
     "metadata": {},
     "output_type": "execute_result"
    }
   ],
   "source": [
    "\"{:,}\".format(words.value_counts().size)"
   ]
  },
  {
   "cell_type": "code",
   "execution_count": 30,
   "metadata": {},
   "outputs": [],
   "source": [
    "sentences.to_pickle(\"data/raw/guemes_sentences.pkl\")"
   ]
  },
  {
   "cell_type": "code",
   "execution_count": null,
   "metadata": {},
   "outputs": [],
   "source": []
  }
 ],
 "metadata": {
  "kernelspec": {
   "display_name": "Python 3",
   "language": "python",
   "name": "python3"
  },
  "language_info": {
   "codemirror_mode": {
    "name": "ipython",
    "version": 3
   },
   "file_extension": ".py",
   "mimetype": "text/x-python",
   "name": "python",
   "nbconvert_exporter": "python",
   "pygments_lexer": "ipython3",
   "version": "3.7.7"
  }
 },
 "nbformat": 4,
 "nbformat_minor": 4
}
