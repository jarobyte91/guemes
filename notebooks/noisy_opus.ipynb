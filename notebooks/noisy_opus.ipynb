{
 "cells": [
  {
   "cell_type": "code",
   "execution_count": 1,
   "metadata": {},
   "outputs": [],
   "source": [
    "import pandas as pd\n",
    "import numpy as np\n",
    "from multiprocessing import Pool\n",
    "from functools import reduce\n",
    "from tqdm import tqdm\n",
    "from os import cpu_count"
   ]
  },
  {
   "cell_type": "code",
   "execution_count": 2,
   "metadata": {},
   "outputs": [
    {
     "name": "stdout",
     "output_type": "stream",
     "text": [
      "(108017, 3)\n"
     ]
    },
    {
     "data": {
      "text/html": [
       "<div>\n",
       "<style scoped>\n",
       "    .dataframe tbody tr th:only-of-type {\n",
       "        vertical-align: middle;\n",
       "    }\n",
       "\n",
       "    .dataframe tbody tr th {\n",
       "        vertical-align: top;\n",
       "    }\n",
       "\n",
       "    .dataframe thead th {\n",
       "        text-align: right;\n",
       "    }\n",
       "</style>\n",
       "<table border=\"1\" class=\"dataframe\">\n",
       "  <thead>\n",
       "    <tr style=\"text-align: right;\">\n",
       "      <th></th>\n",
       "      <th>file</th>\n",
       "      <th>order</th>\n",
       "      <th>text</th>\n",
       "    </tr>\n",
       "  </thead>\n",
       "  <tbody>\n",
       "    <tr>\n",
       "      <th>0</th>\n",
       "      <td>Doyle_Arthur_Conan-Adventures_of_Sherlock_Holm...</td>\n",
       "      <td>0</td>\n",
       "      <td>Source: librosgratis.liblit.com/</td>\n",
       "    </tr>\n",
       "    <tr>\n",
       "      <th>1</th>\n",
       "      <td>Doyle_Arthur_Conan-Adventures_of_Sherlock_Holm...</td>\n",
       "      <td>1</td>\n",
       "      <td>LAS AVENTURAS DE SHERLOCK HOLMES</td>\n",
       "    </tr>\n",
       "    <tr>\n",
       "      <th>2</th>\n",
       "      <td>Doyle_Arthur_Conan-Adventures_of_Sherlock_Holm...</td>\n",
       "      <td>2</td>\n",
       "      <td>Arthur Conan Doyle</td>\n",
       "    </tr>\n",
       "    <tr>\n",
       "      <th>3</th>\n",
       "      <td>Doyle_Arthur_Conan-Adventures_of_Sherlock_Holm...</td>\n",
       "      <td>3</td>\n",
       "      <td>1.</td>\n",
       "    </tr>\n",
       "    <tr>\n",
       "      <th>4</th>\n",
       "      <td>Doyle_Arthur_Conan-Adventures_of_Sherlock_Holm...</td>\n",
       "      <td>4</td>\n",
       "      <td>Escándalo en Bohemia</td>\n",
       "    </tr>\n",
       "  </tbody>\n",
       "</table>\n",
       "</div>"
      ],
      "text/plain": [
       "                                                file  order  \\\n",
       "0  Doyle_Arthur_Conan-Adventures_of_Sherlock_Holm...      0   \n",
       "1  Doyle_Arthur_Conan-Adventures_of_Sherlock_Holm...      1   \n",
       "2  Doyle_Arthur_Conan-Adventures_of_Sherlock_Holm...      2   \n",
       "3  Doyle_Arthur_Conan-Adventures_of_Sherlock_Holm...      3   \n",
       "4  Doyle_Arthur_Conan-Adventures_of_Sherlock_Holm...      4   \n",
       "\n",
       "                               text  \n",
       "0  Source: librosgratis.liblit.com/  \n",
       "1  LAS AVENTURAS DE SHERLOCK HOLMES  \n",
       "2                Arthur Conan Doyle  \n",
       "3                                1.  \n",
       "4              Escándalo en Bohemia  "
      ]
     },
     "execution_count": 2,
     "metadata": {},
     "output_type": "execute_result"
    }
   ],
   "source": [
    "opus = pd.read_pickle(\"../data/raw/opus_sentences.pkl\")\n",
    "print(opus.shape)\n",
    "opus.head()"
   ]
  },
  {
   "cell_type": "code",
   "execution_count": 3,
   "metadata": {},
   "outputs": [],
   "source": [
    "vocabulary = set(\"\".join(opus[\"text\"].to_list()))"
   ]
  },
  {
   "cell_type": "code",
   "execution_count": 4,
   "metadata": {},
   "outputs": [
    {
     "data": {
      "text/plain": [
       "136"
      ]
     },
     "execution_count": 4,
     "metadata": {},
     "output_type": "execute_result"
    }
   ],
   "source": [
    "char_to_ix = {k:i for i, k in enumerate(vocabulary, 3)}\n",
    "char_to_ix[\"<pad>\"] = 0\n",
    "char_to_ix[\"<bos>\"] = 1\n",
    "char_to_ix[\"<eos>\"] = 2\n",
    "len(char_to_ix)"
   ]
  },
  {
   "cell_type": "code",
   "execution_count": 5,
   "metadata": {},
   "outputs": [],
   "source": [
    "ix_to_char = {char_to_ix[k]:k for k in char_to_ix.keys()}"
   ]
  },
  {
   "cell_type": "markdown",
   "metadata": {},
   "source": [
    "# generate training data"
   ]
  },
  {
   "cell_type": "code",
   "execution_count": 6,
   "metadata": {
    "scrolled": true
   },
   "outputs": [],
   "source": [
    "def text_to_ix(text):\n",
    "    return [1] + [char_to_ix[c] for c in text] + [2]"
   ]
  },
  {
   "cell_type": "code",
   "execution_count": 7,
   "metadata": {},
   "outputs": [],
   "source": [
    "def ix_to_text(ixs):\n",
    "    return \"\".join([ix_to_char[i] for i in ixs])"
   ]
  },
  {
   "cell_type": "code",
   "execution_count": 8,
   "metadata": {},
   "outputs": [
    {
     "data": {
      "text/plain": [
       "'Rleocate, remove, or add chaarcters to create spelling mistakes'"
      ]
     },
     "execution_count": 8,
     "metadata": {},
     "output_type": "execute_result"
    }
   ],
   "source": [
    "letters = list(sorted(vocabulary))\n",
    "\n",
    "def noise_maker(sentence, threshold):\n",
    "    '''Relocate, remove, or add characters to create spelling mistakes'''\n",
    "    \n",
    "    noisy_sentence = []\n",
    "    i = 0\n",
    "    while i < len(sentence):\n",
    "        random = np.random.uniform(0,1,1)\n",
    "        # Most characters will be correct since the threshold value is high\n",
    "        if random < threshold:\n",
    "            noisy_sentence.append(sentence[i])\n",
    "        else:\n",
    "            new_random = np.random.uniform(0,1,1)\n",
    "            # ~33% chance characters will swap locations\n",
    "            if new_random > 0.67:\n",
    "                if i == (len(sentence) - 1):\n",
    "                    # If last character in sentence, it will not be typed\n",
    "                    continue\n",
    "                else:\n",
    "                    # if any other character, swap order with following character\n",
    "                    noisy_sentence.append(sentence[i+1])\n",
    "                    noisy_sentence.append(sentence[i])\n",
    "                    i += 1\n",
    "            # ~33% chance an extra lower case letter will be added to the sentence\n",
    "            elif new_random < 0.33:\n",
    "                random_letter = np.random.choice(letters, 1)[0]\n",
    "                #print(char_to_ix[random_letter])\n",
    "                noisy_sentence.append(random_letter)\n",
    "                #noisy_sentence.append(char_to_ix[random_letter])\n",
    "                noisy_sentence.append(sentence[i])\n",
    "            # ~33% chance a character will not be typed\n",
    "            else:\n",
    "                pass     \n",
    "        i += 1\n",
    "    #return noisy_sentence\n",
    "    return \"\".join(noisy_sentence)\n",
    "\n",
    "noise_maker(\"Relocate, remove, or add characters to create spelling mistakes\", 0.97)"
   ]
  },
  {
   "cell_type": "code",
   "execution_count": 9,
   "metadata": {},
   "outputs": [],
   "source": [
    "from timeit import default_timer"
   ]
  },
  {
   "cell_type": "code",
   "execution_count": 10,
   "metadata": {},
   "outputs": [
    {
     "data": {
      "text/plain": [
       "count    108017.000000\n",
       "mean        108.709648\n",
       "std          98.915442\n",
       "min           1.000000\n",
       "0%            1.000000\n",
       "10%          22.000000\n",
       "20%          35.000000\n",
       "30%          49.000000\n",
       "40%          65.000000\n",
       "50%          83.000000\n",
       "60%         103.000000\n",
       "70%         129.000000\n",
       "80%         163.000000\n",
       "90%         222.000000\n",
       "max        2249.000000\n",
       "Name: text, dtype: float64"
      ]
     },
     "execution_count": 10,
     "metadata": {},
     "output_type": "execute_result"
    }
   ],
   "source": [
    "opus[\"text\"].map(len).describe(percentiles = np.arange(0, 1, 0.1))"
   ]
  },
  {
   "cell_type": "code",
   "execution_count": 11,
   "metadata": {},
   "outputs": [
    {
     "data": {
      "text/plain": [
       "<matplotlib.axes._subplots.AxesSubplot at 0x7f67a77b2cd0>"
      ]
     },
     "execution_count": 11,
     "metadata": {},
     "output_type": "execute_result"
    },
    {
     "data": {
      "image/png": "[encoded data removed]",
      "text/plain": [
       "<Figure size 432x288 with 1 Axes>"
      ]
     },
     "metadata": {
      "needs_background": "light"
     },
     "output_type": "display_data"
    }
   ],
   "source": [
    "opus[\"text\"].map(len).plot.hist(bins = 50)"
   ]
  },
  {
   "cell_type": "code",
   "execution_count": 12,
   "metadata": {},
   "outputs": [
    {
     "data": {
      "text/plain": [
       "('Source: librosgratis.liblit.com/',\n",
       " ['Source: librosgratis.liblit.com/',\n",
       "  'Source: librosgratis.liblit.com/',\n",
       "  'Source: librosgratis.liblit.com/',\n",
       "  'Source: librosgratis.liblit.com/',\n",
       "  'Source: librosgratis.liblit.com/',\n",
       "  'Source: librsgratis.liblit.com/',\n",
       "  'Source: librosgratis.liblit.com/',\n",
       "  'urce: librsogrtis.liblit.com/',\n",
       "  'Source: librosgartis.liblit.com/',\n",
       "  'Source: librosgratis.liblitc.om/'])"
      ]
     },
     "execution_count": 12,
     "metadata": {},
     "output_type": "execute_result"
    }
   ],
   "source": [
    "def generate_noisy_examples(x, threshold = 0.95, noise_examples = 5):\n",
    "    return (x, [x] * noise_examples + [noise_maker(x, threshold) for i in range(noise_examples)])\n",
    "\n",
    "generate_noisy_examples(opus[\"text\"][0])"
   ]
  },
  {
   "cell_type": "code",
   "execution_count": 13,
   "metadata": {},
   "outputs": [],
   "source": [
    "p = Pool(cpu_count() - 1)"
   ]
  },
  {
   "cell_type": "code",
   "execution_count": 14,
   "metadata": {},
   "outputs": [
    {
     "name": "stderr",
     "output_type": "stream",
     "text": [
      "100%|██████████| 108017/108017 [04:45<00:00, 378.41it/s]\n"
     ]
    },
    {
     "name": "stdout",
     "output_type": "stream",
     "text": [
      "(108017, 2)\n"
     ]
    },
    {
     "data": {
      "text/html": [
       "<div>\n",
       "<style scoped>\n",
       "    .dataframe tbody tr th:only-of-type {\n",
       "        vertical-align: middle;\n",
       "    }\n",
       "\n",
       "    .dataframe tbody tr th {\n",
       "        vertical-align: top;\n",
       "    }\n",
       "\n",
       "    .dataframe thead th {\n",
       "        text-align: right;\n",
       "    }\n",
       "</style>\n",
       "<table border=\"1\" class=\"dataframe\">\n",
       "  <thead>\n",
       "    <tr style=\"text-align: right;\">\n",
       "      <th></th>\n",
       "      <th>text</th>\n",
       "      <th>noise</th>\n",
       "    </tr>\n",
       "  </thead>\n",
       "  <tbody>\n",
       "    <tr>\n",
       "      <th>0</th>\n",
       "      <td>LAS AVENTURAS DE SHERLOCK HOLMES</td>\n",
       "      <td>[LAS AVENTURAS DE SHERLOCK HOLMES, LAS AVENTUR...</td>\n",
       "    </tr>\n",
       "    <tr>\n",
       "      <th>1</th>\n",
       "      <td>1.</td>\n",
       "      <td>[1., 1., 1., 1., 1., 1., 1., 1., 1., 1.]</td>\n",
       "    </tr>\n",
       "    <tr>\n",
       "      <th>2</th>\n",
       "      <td>Source: librosgratis.liblit.com/</td>\n",
       "      <td>[Source: librosgratis.liblit.com/, Source: lib...</td>\n",
       "    </tr>\n",
       "    <tr>\n",
       "      <th>3</th>\n",
       "      <td>Escándalo en Bohemia</td>\n",
       "      <td>[Escándalo en Bohemia, Escándalo en Bohemia, E...</td>\n",
       "    </tr>\n",
       "    <tr>\n",
       "      <th>4</th>\n",
       "      <td>Arthur Conan Doyle</td>\n",
       "      <td>[Arthur Conan Doyle, Arthur Conan Doyle, Arthu...</td>\n",
       "    </tr>\n",
       "  </tbody>\n",
       "</table>\n",
       "</div>"
      ],
      "text/plain": [
       "                               text  \\\n",
       "0  LAS AVENTURAS DE SHERLOCK HOLMES   \n",
       "1                                1.   \n",
       "2  Source: librosgratis.liblit.com/   \n",
       "3              Escándalo en Bohemia   \n",
       "4                Arthur Conan Doyle   \n",
       "\n",
       "                                               noise  \n",
       "0  [LAS AVENTURAS DE SHERLOCK HOLMES, LAS AVENTUR...  \n",
       "1           [1., 1., 1., 1., 1., 1., 1., 1., 1., 1.]  \n",
       "2  [Source: librosgratis.liblit.com/, Source: lib...  \n",
       "3  [Escándalo en Bohemia, Escándalo en Bohemia, E...  \n",
       "4  [Arthur Conan Doyle, Arthur Conan Doyle, Arthu...  "
      ]
     },
     "execution_count": 14,
     "metadata": {},
     "output_type": "execute_result"
    }
   ],
   "source": [
    "noisy_sentences = pd.DataFrame(p.imap_unordered(generate_noisy_examples, tqdm(opus[\"text\"].to_list())), \n",
    "                               columns = [\"text\", \"noise\"])\n",
    "# noisy_sentences = pd.DataFrame(p.imap_unordered(generate_noisy_examples, tqdm(opus[\"text\"].head().to_list())), \n",
    "#                                columns = [\"text\", \"noise\"])\n",
    "\n",
    "print(noisy_sentences.shape)\n",
    "noisy_sentences.head()"
   ]
  },
  {
   "cell_type": "code",
   "execution_count": 15,
   "metadata": {},
   "outputs": [
    {
     "name": "stdout",
     "output_type": "stream",
     "text": [
      "<class 'pandas.core.frame.DataFrame'>\n",
      "RangeIndex: 108017 entries, 0 to 108016\n",
      "Data columns (total 2 columns):\n",
      " #   Column  Non-Null Count   Dtype \n",
      "---  ------  --------------   ----- \n",
      " 0   text    108017 non-null  object\n",
      " 1   noise   108017 non-null  object\n",
      "dtypes: object(2)\n",
      "memory usage: 1.6+ MB\n"
     ]
    }
   ],
   "source": [
    "noisy_sentences.info()"
   ]
  },
  {
   "cell_type": "code",
   "execution_count": 16,
   "metadata": {},
   "outputs": [
    {
     "data": {
      "text/html": [
       "<div>\n",
       "<style scoped>\n",
       "    .dataframe tbody tr th:only-of-type {\n",
       "        vertical-align: middle;\n",
       "    }\n",
       "\n",
       "    .dataframe tbody tr th {\n",
       "        vertical-align: top;\n",
       "    }\n",
       "\n",
       "    .dataframe thead th {\n",
       "        text-align: right;\n",
       "    }\n",
       "</style>\n",
       "<table border=\"1\" class=\"dataframe\">\n",
       "  <thead>\n",
       "    <tr style=\"text-align: right;\">\n",
       "      <th></th>\n",
       "      <th>text</th>\n",
       "      <th>noise</th>\n",
       "    </tr>\n",
       "  </thead>\n",
       "  <tbody>\n",
       "    <tr>\n",
       "      <th>0</th>\n",
       "      <td>LAS AVENTURAS DE SHERLOCK HOLMES</td>\n",
       "      <td>LAS AVENTURAS DE SHERLOCK HOLMES</td>\n",
       "    </tr>\n",
       "    <tr>\n",
       "      <th>1</th>\n",
       "      <td>LAS AVENTURAS DE SHERLOCK HOLMES</td>\n",
       "      <td>LAS AVENTURAS DE SHERLOCK HOLMES</td>\n",
       "    </tr>\n",
       "    <tr>\n",
       "      <th>2</th>\n",
       "      <td>LAS AVENTURAS DE SHERLOCK HOLMES</td>\n",
       "      <td>LAS AVENTURAS DE SHERLOCK HOLMES</td>\n",
       "    </tr>\n",
       "    <tr>\n",
       "      <th>3</th>\n",
       "      <td>LAS AVENTURAS DE SHERLOCK HOLMES</td>\n",
       "      <td>LAS AVENTURAS DE SHERLOCK HOLMES</td>\n",
       "    </tr>\n",
       "    <tr>\n",
       "      <th>4</th>\n",
       "      <td>LAS AVENTURAS DE SHERLOCK HOLMES</td>\n",
       "      <td>LAS AVENTURAS DE SHERLOCK HOLMES</td>\n",
       "    </tr>\n",
       "  </tbody>\n",
       "</table>\n",
       "</div>"
      ],
      "text/plain": [
       "                               text                             noise\n",
       "0  LAS AVENTURAS DE SHERLOCK HOLMES  LAS AVENTURAS DE SHERLOCK HOLMES\n",
       "1  LAS AVENTURAS DE SHERLOCK HOLMES  LAS AVENTURAS DE SHERLOCK HOLMES\n",
       "2  LAS AVENTURAS DE SHERLOCK HOLMES  LAS AVENTURAS DE SHERLOCK HOLMES\n",
       "3  LAS AVENTURAS DE SHERLOCK HOLMES  LAS AVENTURAS DE SHERLOCK HOLMES\n",
       "4  LAS AVENTURAS DE SHERLOCK HOLMES  LAS AVENTURAS DE SHERLOCK HOLMES"
      ]
     },
     "execution_count": 16,
     "metadata": {},
     "output_type": "execute_result"
    }
   ],
   "source": [
    "noisy_opus = noisy_sentences.explode(\"noise\")\\\n",
    ".reset_index(drop = True)\n",
    "\n",
    "noisy_opus.head()"
   ]
  },
  {
   "cell_type": "code",
   "execution_count": 17,
   "metadata": {},
   "outputs": [
    {
     "name": "stdout",
     "output_type": "stream",
     "text": [
      "<class 'pandas.core.frame.DataFrame'>\n",
      "RangeIndex: 1080170 entries, 0 to 1080169\n",
      "Data columns (total 2 columns):\n",
      " #   Column  Non-Null Count    Dtype \n",
      "---  ------  --------------    ----- \n",
      " 0   text    1080170 non-null  object\n",
      " 1   noise   1080170 non-null  object\n",
      "dtypes: object(2)\n",
      "memory usage: 16.5+ MB\n"
     ]
    }
   ],
   "source": [
    "noisy_opus.info()"
   ]
  },
  {
   "cell_type": "code",
   "execution_count": 18,
   "metadata": {},
   "outputs": [
    {
     "name": "stderr",
     "output_type": "stream",
     "text": [
      "100%|██████████| 1080170/1080170 [01:26<00:00, 12448.74it/s]\n"
     ]
    }
   ],
   "source": [
    "X = list(p.imap_unordered(text_to_ix, tqdm(noisy_opus[\"noise\"].to_list())))"
   ]
  },
  {
   "cell_type": "code",
   "execution_count": 19,
   "metadata": {},
   "outputs": [
    {
     "name": "stderr",
     "output_type": "stream",
     "text": [
      "100%|██████████| 1080170/1080170 [01:27<00:00, 12313.15it/s]\n"
     ]
    }
   ],
   "source": [
    "Y = list(p.imap_unordered(text_to_ix, tqdm(noisy_opus[\"text\"].to_list())))"
   ]
  },
  {
   "cell_type": "code",
   "execution_count": 20,
   "metadata": {},
   "outputs": [
    {
     "name": "stdout",
     "output_type": "stream",
     "text": [
      "(1080170, 4)\n"
     ]
    },
    {
     "data": {
      "text/html": [
       "<div>\n",
       "<style scoped>\n",
       "    .dataframe tbody tr th:only-of-type {\n",
       "        vertical-align: middle;\n",
       "    }\n",
       "\n",
       "    .dataframe tbody tr th {\n",
       "        vertical-align: top;\n",
       "    }\n",
       "\n",
       "    .dataframe thead th {\n",
       "        text-align: right;\n",
       "    }\n",
       "</style>\n",
       "<table border=\"1\" class=\"dataframe\">\n",
       "  <thead>\n",
       "    <tr style=\"text-align: right;\">\n",
       "      <th></th>\n",
       "      <th>text</th>\n",
       "      <th>noise</th>\n",
       "      <th>X</th>\n",
       "      <th>Y</th>\n",
       "    </tr>\n",
       "  </thead>\n",
       "  <tbody>\n",
       "    <tr>\n",
       "      <th>0</th>\n",
       "      <td>LAS AVENTURAS DE SHERLOCK HOLMES</td>\n",
       "      <td>LAS AVENTURAS DE SHERLOCK HOLMES</td>\n",
       "      <td>[1, 99, 11, 122, 108, 11, 113, 17, 114, 95, 49...</td>\n",
       "      <td>[1, 99, 11, 122, 108, 11, 113, 17, 114, 95, 49...</td>\n",
       "    </tr>\n",
       "    <tr>\n",
       "      <th>1</th>\n",
       "      <td>LAS AVENTURAS DE SHERLOCK HOLMES</td>\n",
       "      <td>LAS AVENTURAS DE SHERLOCK HOLMES</td>\n",
       "      <td>[1, 99, 11, 122, 108, 11, 113, 17, 114, 95, 49...</td>\n",
       "      <td>[1, 99, 11, 122, 108, 11, 113, 17, 114, 95, 49...</td>\n",
       "    </tr>\n",
       "    <tr>\n",
       "      <th>2</th>\n",
       "      <td>LAS AVENTURAS DE SHERLOCK HOLMES</td>\n",
       "      <td>LAS AVENTURAS DE SHERLOCK HOLMES</td>\n",
       "      <td>[1, 99, 11, 122, 108, 11, 113, 17, 114, 95, 49...</td>\n",
       "      <td>[1, 99, 11, 122, 108, 11, 113, 17, 114, 95, 49...</td>\n",
       "    </tr>\n",
       "    <tr>\n",
       "      <th>3</th>\n",
       "      <td>LAS AVENTURAS DE SHERLOCK HOLMES</td>\n",
       "      <td>LAS AVENTURAS DE SHERLOCK HOLMES</td>\n",
       "      <td>[1, 99, 11, 122, 108, 11, 113, 17, 114, 95, 49...</td>\n",
       "      <td>[1, 99, 11, 122, 108, 11, 113, 17, 114, 95, 49...</td>\n",
       "    </tr>\n",
       "    <tr>\n",
       "      <th>4</th>\n",
       "      <td>LAS AVENTURAS DE SHERLOCK HOLMES</td>\n",
       "      <td>LAS AVENTURAS DE SHERLOCK HOLMES</td>\n",
       "      <td>[1, 99, 11, 122, 108, 11, 113, 17, 114, 95, 49...</td>\n",
       "      <td>[1, 99, 11, 122, 108, 11, 113, 17, 114, 95, 49...</td>\n",
       "    </tr>\n",
       "  </tbody>\n",
       "</table>\n",
       "</div>"
      ],
      "text/plain": [
       "                               text                             noise  \\\n",
       "0  LAS AVENTURAS DE SHERLOCK HOLMES  LAS AVENTURAS DE SHERLOCK HOLMES   \n",
       "1  LAS AVENTURAS DE SHERLOCK HOLMES  LAS AVENTURAS DE SHERLOCK HOLMES   \n",
       "2  LAS AVENTURAS DE SHERLOCK HOLMES  LAS AVENTURAS DE SHERLOCK HOLMES   \n",
       "3  LAS AVENTURAS DE SHERLOCK HOLMES  LAS AVENTURAS DE SHERLOCK HOLMES   \n",
       "4  LAS AVENTURAS DE SHERLOCK HOLMES  LAS AVENTURAS DE SHERLOCK HOLMES   \n",
       "\n",
       "                                                   X  \\\n",
       "0  [1, 99, 11, 122, 108, 11, 113, 17, 114, 95, 49...   \n",
       "1  [1, 99, 11, 122, 108, 11, 113, 17, 114, 95, 49...   \n",
       "2  [1, 99, 11, 122, 108, 11, 113, 17, 114, 95, 49...   \n",
       "3  [1, 99, 11, 122, 108, 11, 113, 17, 114, 95, 49...   \n",
       "4  [1, 99, 11, 122, 108, 11, 113, 17, 114, 95, 49...   \n",
       "\n",
       "                                                   Y  \n",
       "0  [1, 99, 11, 122, 108, 11, 113, 17, 114, 95, 49...  \n",
       "1  [1, 99, 11, 122, 108, 11, 113, 17, 114, 95, 49...  \n",
       "2  [1, 99, 11, 122, 108, 11, 113, 17, 114, 95, 49...  \n",
       "3  [1, 99, 11, 122, 108, 11, 113, 17, 114, 95, 49...  \n",
       "4  [1, 99, 11, 122, 108, 11, 113, 17, 114, 95, 49...  "
      ]
     },
     "execution_count": 20,
     "metadata": {},
     "output_type": "execute_result"
    }
   ],
   "source": [
    "noisy_opus = noisy_opus.assign(X = X, Y = Y)\n",
    "\n",
    "print(noisy_opus.shape)\n",
    "noisy_opus.head()"
   ]
  },
  {
   "cell_type": "code",
   "execution_count": 21,
   "metadata": {},
   "outputs": [],
   "source": [
    "noisy_opus.to_pickle(\"../data/tidy/noisy_opus.pkl\")"
   ]
  },
  {
   "cell_type": "code",
   "execution_count": 22,
   "metadata": {},
   "outputs": [],
   "source": [
    "noisy_opus.sample(n = 100).to_pickle(\"../data/tidy/noisy_opus_sample.pkl\")"
   ]
  }
 ],
 "metadata": {
  "kernelspec": {
   "display_name": "Python 3",
   "language": "python",
   "name": "python3"
  },
  "language_info": {
   "codemirror_mode": {
    "name": "ipython",
    "version": 3
   },
   "file_extension": ".py",
   "mimetype": "text/x-python",
   "name": "python",
   "nbconvert_exporter": "python",
   "pygments_lexer": "ipython3",
   "version": "3.7.7"
  }
 },
 "nbformat": 4,
 "nbformat_minor": 4
}
