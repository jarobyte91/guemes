{
 "cells": [
  {
   "cell_type": "markdown",
   "metadata": {},
   "source": [
    "# Creating a Spell Checker"
   ]
  },
  {
   "cell_type": "markdown",
   "metadata": {},
   "source": [
    "The objective of this project is to build a model that can take a sentence with spelling mistakes as input, and output the same sentence, but with the mistakes corrected. The data that we will use for this project will be twenty popular books from [Project Gutenberg](http://www.gutenberg.org/ebooks/search/?sort_order=downloads). Our model is designed using grid search to find the optimal architecture, and hyperparameter values. The best results, as measured by sequence loss with 15% of our data, were created using a two-layered network with a bi-direction RNN in the encoding layer and Bahdanau Attention in the decoding layer. [FloydHub's](https://www.floydhub.com/) GPU service was used to train the model.\n",
    "\n",
    "The sections of the project are:\n",
    "- Loading the Data\n",
    "- Preparing the Data\n",
    "- Building the Model\n",
    "- Training the Model\n",
    "- Fixing Custom Sentences\n",
    "- Summary"
   ]
  },
  {
   "cell_type": "code",
   "execution_count": 1,
   "metadata": {},
   "outputs": [
    {
     "name": "stderr",
     "output_type": "stream",
     "text": [
      "/usr/work01/eduardo/python_venv/venv/lib/python3.5/site-packages/tensorflow/python/framework/dtypes.py:493: FutureWarning: Passing (type, 1) or '1type' as a synonym of type is deprecated; in a future version of numpy, it will be understood as (type, (1,)) / '(1,)type'.\n",
      "  _np_qint8 = np.dtype([(\"qint8\", np.int8, 1)])\n",
      "/usr/work01/eduardo/python_venv/venv/lib/python3.5/site-packages/tensorflow/python/framework/dtypes.py:494: FutureWarning: Passing (type, 1) or '1type' as a synonym of type is deprecated; in a future version of numpy, it will be understood as (type, (1,)) / '(1,)type'.\n",
      "  _np_quint8 = np.dtype([(\"quint8\", np.uint8, 1)])\n",
      "/usr/work01/eduardo/python_venv/venv/lib/python3.5/site-packages/tensorflow/python/framework/dtypes.py:495: FutureWarning: Passing (type, 1) or '1type' as a synonym of type is deprecated; in a future version of numpy, it will be understood as (type, (1,)) / '(1,)type'.\n",
      "  _np_qint16 = np.dtype([(\"qint16\", np.int16, 1)])\n",
      "/usr/work01/eduardo/python_venv/venv/lib/python3.5/site-packages/tensorflow/python/framework/dtypes.py:496: FutureWarning: Passing (type, 1) or '1type' as a synonym of type is deprecated; in a future version of numpy, it will be understood as (type, (1,)) / '(1,)type'.\n",
      "  _np_quint16 = np.dtype([(\"quint16\", np.uint16, 1)])\n",
      "/usr/work01/eduardo/python_venv/venv/lib/python3.5/site-packages/tensorflow/python/framework/dtypes.py:497: FutureWarning: Passing (type, 1) or '1type' as a synonym of type is deprecated; in a future version of numpy, it will be understood as (type, (1,)) / '(1,)type'.\n",
      "  _np_qint32 = np.dtype([(\"qint32\", np.int32, 1)])\n",
      "/usr/work01/eduardo/python_venv/venv/lib/python3.5/site-packages/tensorflow/python/framework/dtypes.py:502: FutureWarning: Passing (type, 1) or '1type' as a synonym of type is deprecated; in a future version of numpy, it will be understood as (type, (1,)) / '(1,)type'.\n",
      "  np_resource = np.dtype([(\"resource\", np.ubyte, 1)])\n"
     ]
    }
   ],
   "source": [
    "import pandas as pd\n",
    "import numpy as np\n",
    "import tensorflow as tf\n",
    "import os\n",
    "from os import listdir\n",
    "from os.path import isfile, join\n",
    "from collections import namedtuple\n",
    "from tensorflow.python.layers.core import Dense\n",
    "from tensorflow.python.ops.rnn_cell_impl import _zero_state_tensors\n",
    "import time\n",
    "import re\n",
    "from sklearn.model_selection import train_test_split\n",
    "\n",
    "carpeta = '/usr/work01/eduardo/ocr_post/'\n",
    "\n",
    "#Variables de configuración\n",
    "path = carpeta+'datasets/SBWC/usados/'#Carpeta donde están los archivos de texto fuente para training\n",
    "#Máximo y mínimo de largo de sentences en tokens (caracteres)\n",
    "max_length = 500#92\n",
    "min_length = 10\n",
    "#Caracteres a incluir como ruido en las sentences sintéticas\n",
    "letters = ['a','b','c','d','e','f','g','h','i','j','k','l','m',\n",
    "           'n','o','p','q','r','s','t','u','v','w','x','y','z',\n",
    "           'A','B','C','D','E','F','G','H','I','J','K','L','M',\n",
    "           'N','O','P','Q','R','S','T','U','V','W','X','Y','Z',\n",
    "           'á','é','í','ó','ú','Á','É','Í','Ó','Ú',\n",
    "           'ü','.','¿','?','¡','!','\\'','\"']\n",
    "#Parámetros generales del modelo, que dieron mejores resultados\n",
    "# The default parameters\n",
    "epochs = 100\n",
    "batch_size = 128\n",
    "num_layers = 2\n",
    "rnn_size = 512\n",
    "embedding_size = 128\n",
    "learning_rate = 0.005#0.0005\n",
    "direction = 2\n",
    "#Para el noise maker\n",
    "threshold = 0.95#Probabilidad de error en cada carácter de la oración\n",
    "#threshold = 0.9\n",
    "keep_probability = 0.75"
   ]
  },
  {
   "cell_type": "markdown",
   "metadata": {},
   "source": [
    "## Loading the Data"
   ]
  },
  {
   "cell_type": "code",
   "execution_count": 2,
   "metadata": {},
   "outputs": [],
   "source": [
    "def load_book(path):\n",
    "    \"\"\"Load a book from its file\"\"\"\n",
    "    input_file = os.path.join(path)\n",
    "    with open(input_file) as f:\n",
    "        book = f.read()\n",
    "    return book"
   ]
  },
  {
   "cell_type": "code",
   "execution_count": 3,
   "metadata": {},
   "outputs": [],
   "source": [
    "# Collect all of the book file names\n",
    "#path = carpeta+'datasets/SBWC/usados/'\n",
    "book_files = [f for f in listdir(path) if isfile(join(path, f))]\n",
    "#book_files = book_files[1:]"
   ]
  },
  {
   "cell_type": "code",
   "execution_count": 4,
   "metadata": {},
   "outputs": [],
   "source": [
    "# Load the books using the file names\n",
    "books = []\n",
    "for book in book_files:\n",
    "    books.append(load_book(path+book))"
   ]
  },
  {
   "cell_type": "code",
   "execution_count": 5,
   "metadata": {},
   "outputs": [
    {
     "name": "stdout",
     "output_type": "stream",
     "text": [
      "There are 1650550 words in corpus_opus_para_spelling.txt.\n"
     ]
    }
   ],
   "source": [
    "# Compare the number of words in each book \n",
    "for i in range(len(books)):\n",
    "    print(\"There are {} words in {}.\".format(len(books[i].split()), book_files[i]))"
   ]
  },
  {
   "cell_type": "code",
   "execution_count": 6,
   "metadata": {},
   "outputs": [
    {
     "data": {
      "text/plain": [
       "'SENTIDO Y SENSIBILIDAD\\nJANE AUSTEN\\nCAPITULO I\\nLa familia Dashwood llevaba largo tiempo afincada en Sussex.\\nSu propiedad era de buen tamaño, y en el centro de ella se encontraba la residencia, Norland Park, donde la manera tan digna en que habían vivido por muchas generaciones llegó a granjearles el respeto de todos los conocidos del lugar.\\nEl último dueño de esta propiedad había sido un hombre soltero, que alcanzó una muy avanzada edad, y que durante gran parte de su existencia tuvo en su herman'"
      ]
     },
     "execution_count": 6,
     "metadata": {},
     "output_type": "execute_result"
    }
   ],
   "source": [
    "# Check to ensure the text looks alright\n",
    "books[0][:500]"
   ]
  },
  {
   "cell_type": "markdown",
   "metadata": {},
   "source": [
    "## Preparing the Data"
   ]
  },
  {
   "cell_type": "code",
   "execution_count": 7,
   "metadata": {},
   "outputs": [],
   "source": [
    "def clean_text(text):\n",
    "    '''\n",
    "    #Remove unwanted characters and extra spaces from the text\n",
    "    text = re.sub('a0','', text)\n",
    "    text = re.sub('\\'92t','\\'t', text)\n",
    "    text = re.sub('\\'92s','\\'s', text)\n",
    "    text = re.sub('\\'92m','\\'m', text)\n",
    "    text = re.sub('\\'92ll','\\'ll', text)\n",
    "    text = re.sub('\\'91','', text)\n",
    "    text = re.sub('\\'92','', text)\n",
    "    text = re.sub('\\'93','', text)\n",
    "    text = re.sub('\\'94','', text)\n",
    "    text = re.sub('\\.','. ', text)\n",
    "    text = re.sub('\\!','! ', text)\n",
    "    text = re.sub('\\?','? ', text)\n",
    "    text = re.sub(r'[^A-Za-zÑñÄäËëÏïÖöÜü ÁÉÍÓÚáéíóú\\n]','', text)\n",
    "    text = re.sub('DIGITO','', text)\n",
    "    text = re.sub(' +',' ', text)\n",
    "    text = re.sub(r'\\n', ' ', text)\n",
    "    '''\n",
    "    return text"
   ]
  },
  {
   "cell_type": "code",
   "execution_count": 8,
   "metadata": {},
   "outputs": [],
   "source": [
    "# Clean the text of the books\n",
    "clean_books = []\n",
    "for book in books:\n",
    "    clean_books.append(clean_text(book))"
   ]
  },
  {
   "cell_type": "code",
   "execution_count": 9,
   "metadata": {},
   "outputs": [
    {
     "data": {
      "text/plain": [
       "'SENTIDO Y SENSIBILIDAD\\nJANE AUSTEN\\nCAPITULO I\\nLa familia Dashwood llevaba largo tiempo afincada en Sussex.\\nSu propiedad era de buen tamaño, y en el centro de ella se encontraba la residencia, Norland Park, donde la manera tan digna en que habían vivido por muchas generaciones llegó a granjearles el respeto de todos los conocidos del lugar.\\nEl último dueño de esta propiedad había sido un hombre soltero, que alcanzó una muy avanzada edad, y que durante gran parte de su existencia tuvo en su herman'"
      ]
     },
     "execution_count": 9,
     "metadata": {},
     "output_type": "execute_result"
    }
   ],
   "source": [
    "# Check to ensure the text has been cleaned properly\n",
    "clean_books[0][:500]"
   ]
  },
  {
   "cell_type": "code",
   "execution_count": 10,
   "metadata": {},
   "outputs": [],
   "source": [
    "# Create a dictionary to convert the vocabulary (characters) to integers\n",
    "vocab_to_int = {}\n",
    "count = 0\n",
    "for book in clean_books:\n",
    "    for character in book:\n",
    "        if character not in vocab_to_int and character!='\\n':\n",
    "            vocab_to_int[character] = count\n",
    "            count += 1\n",
    "\n",
    "# Add special tokens to vocab_to_int\n",
    "codes = ['<PAD>','<EOS>','<GO>']\n",
    "for code in codes:\n",
    "    vocab_to_int[code] = count\n",
    "    count += 1"
   ]
  },
  {
   "cell_type": "code",
   "execution_count": 11,
   "metadata": {},
   "outputs": [
    {
     "name": "stdout",
     "output_type": "stream",
     "text": [
      "The vocabulary contains 84 characters.\n",
      "[' ', '!', '\"', '#', '&', \"'\", '(', ')', ',', '-', '.', ':', ';', '<EOS>', '<GO>', '<PAD>', '?', 'A', 'B', 'C', 'D', 'E', 'F', 'G', 'H', 'I', 'J', 'K', 'L', 'M', 'N', 'O', 'P', 'Q', 'R', 'S', 'T', 'U', 'V', 'W', 'X', 'Y', 'Z', 'a', 'b', 'c', 'd', 'e', 'f', 'g', 'h', 'i', 'j', 'k', 'l', 'm', 'n', 'o', 'p', 'q', 'r', 's', 't', 'u', 'v', 'w', 'x', 'y', 'z', '¡', '°', '¿', 'Á', 'É', 'Í', 'Ó', 'Ú', 'á', 'é', 'í', 'ñ', 'ó', 'ú', 'ü']\n"
     ]
    }
   ],
   "source": [
    "# Check the size of vocabulary and all of the values\n",
    "vocab_size = len(vocab_to_int)\n",
    "print(\"The vocabulary contains {} characters.\".format(vocab_size))\n",
    "print(sorted(vocab_to_int))"
   ]
  },
  {
   "cell_type": "markdown",
   "metadata": {},
   "source": [
    "*Note: We could have made this project a little easier by using only lower case words and fewer special characters ($,&,-...), but I want to make this spell checker as useful as possible.*"
   ]
  },
  {
   "cell_type": "code",
   "execution_count": 12,
   "metadata": {},
   "outputs": [],
   "source": [
    "# Create another dictionary to convert integers to their respective characters\n",
    "int_to_vocab = {}\n",
    "for character, value in vocab_to_int.items():\n",
    "    int_to_vocab[value] = character"
   ]
  },
  {
   "cell_type": "code",
   "execution_count": 13,
   "metadata": {},
   "outputs": [
    {
     "name": "stdout",
     "output_type": "stream",
     "text": [
      "There are 96999 sentences.\n"
     ]
    }
   ],
   "source": [
    "# Split the text from the books into sentences.\n",
    "sentences = []\n",
    "for book in clean_books:\n",
    "    for sentence in book.split('\\n'):\n",
    "        sentences.append(sentence)\n",
    "print(\"There are {} sentences.\".format(len(sentences)))"
   ]
  },
  {
   "cell_type": "code",
   "execution_count": 14,
   "metadata": {},
   "outputs": [
    {
     "data": {
      "text/plain": [
       "['SENTIDO Y SENSIBILIDAD',\n",
       " 'JANE AUSTEN',\n",
       " 'CAPITULO I',\n",
       " 'La familia Dashwood llevaba largo tiempo afincada en Sussex.',\n",
       " 'Su propiedad era de buen tamaño, y en el centro de ella se encontraba la residencia, Norland Park, donde la manera tan digna en que habían vivido por muchas generaciones llegó a granjearles el respeto de todos los conocidos del lugar.']"
      ]
     },
     "execution_count": 14,
     "metadata": {},
     "output_type": "execute_result"
    }
   ],
   "source": [
    "# Check to ensure the text has been split correctly.\n",
    "sentences[:5]"
   ]
  },
  {
   "cell_type": "markdown",
   "metadata": {},
   "source": [
    "*Note: I expect that you have noticed the very ugly text in the first sentence. We do not need to worry about removing it from any of the books because will be limiting our data to sentences that are shorter than it.*"
   ]
  },
  {
   "cell_type": "code",
   "execution_count": 15,
   "metadata": {},
   "outputs": [],
   "source": [
    "# Convert sentences to integers\n",
    "int_sentences = []\n",
    "\n",
    "for sentence in sentences:\n",
    "    int_sentence = []\n",
    "    for character in sentence:\n",
    "        int_sentence.append(vocab_to_int[character])\n",
    "    int_sentences.append(int_sentence)"
   ]
  },
  {
   "cell_type": "code",
   "execution_count": 16,
   "metadata": {},
   "outputs": [],
   "source": [
    "# Find the length of each sentence\n",
    "lengths = []\n",
    "for sentence in int_sentences:\n",
    "    lengths.append(len(sentence))\n",
    "lengths = pd.DataFrame(lengths, columns=[\"counts\"])"
   ]
  },
  {
   "cell_type": "code",
   "execution_count": 17,
   "metadata": {},
   "outputs": [
    {
     "data": {
      "text/html": [
       "<div>\n",
       "<style scoped>\n",
       "    .dataframe tbody tr th:only-of-type {\n",
       "        vertical-align: middle;\n",
       "    }\n",
       "\n",
       "    .dataframe tbody tr th {\n",
       "        vertical-align: top;\n",
       "    }\n",
       "\n",
       "    .dataframe thead th {\n",
       "        text-align: right;\n",
       "    }\n",
       "</style>\n",
       "<table border=\"1\" class=\"dataframe\">\n",
       "  <thead>\n",
       "    <tr style=\"text-align: right;\">\n",
       "      <th></th>\n",
       "      <th>counts</th>\n",
       "    </tr>\n",
       "  </thead>\n",
       "  <tbody>\n",
       "    <tr>\n",
       "      <th>count</th>\n",
       "      <td>96999.000000</td>\n",
       "    </tr>\n",
       "    <tr>\n",
       "      <th>mean</th>\n",
       "      <td>98.126465</td>\n",
       "    </tr>\n",
       "    <tr>\n",
       "      <th>std</th>\n",
       "      <td>81.677009</td>\n",
       "    </tr>\n",
       "    <tr>\n",
       "      <th>min</th>\n",
       "      <td>0.000000</td>\n",
       "    </tr>\n",
       "    <tr>\n",
       "      <th>25%</th>\n",
       "      <td>40.000000</td>\n",
       "    </tr>\n",
       "    <tr>\n",
       "      <th>50%</th>\n",
       "      <td>77.000000</td>\n",
       "    </tr>\n",
       "    <tr>\n",
       "      <th>75%</th>\n",
       "      <td>133.000000</td>\n",
       "    </tr>\n",
       "    <tr>\n",
       "      <th>max</th>\n",
       "      <td>1753.000000</td>\n",
       "    </tr>\n",
       "  </tbody>\n",
       "</table>\n",
       "</div>"
      ],
      "text/plain": [
       "             counts\n",
       "count  96999.000000\n",
       "mean      98.126465\n",
       "std       81.677009\n",
       "min        0.000000\n",
       "25%       40.000000\n",
       "50%       77.000000\n",
       "75%      133.000000\n",
       "max     1753.000000"
      ]
     },
     "execution_count": 17,
     "metadata": {},
     "output_type": "execute_result"
    }
   ],
   "source": [
    "lengths.describe()"
   ]
  },
  {
   "cell_type": "code",
   "execution_count": 18,
   "metadata": {},
   "outputs": [
    {
     "name": "stdout",
     "output_type": "stream",
     "text": [
      "We will use 94170 to train and test our model.\n"
     ]
    }
   ],
   "source": [
    "# Limit the data we will use to train our model\n",
    "#max_length = 1000#92\n",
    "#min_length = 10\n",
    "\n",
    "good_sentences = []\n",
    "\n",
    "for sentence in int_sentences:\n",
    "    if len(sentence) <= max_length and len(sentence) >= min_length:\n",
    "        good_sentences.append(sentence)\n",
    "\n",
    "print(\"We will use {} to train and test our model.\".format(len(good_sentences)))"
   ]
  },
  {
   "cell_type": "markdown",
   "metadata": {},
   "source": [
    "*Note: I decided to not use very long or short sentences because they are not as useful for training our model. Shorter sentences are less likely to include an error and the text is more likely to be repetitive. Longer sentences are more difficult to learn due to their length and increase the training time quite a bit. If you are interested in using this model for more than just a personal project, it would be worth using these longer sentence, and much more training data to create a more accurate model.*"
   ]
  },
  {
   "cell_type": "code",
   "execution_count": 19,
   "metadata": {},
   "outputs": [
    {
     "name": "stdout",
     "output_type": "stream",
     "text": [
      "Number of training sentences: 80044\n",
      "Number of testing sentences: 14126\n"
     ]
    }
   ],
   "source": [
    "# Split the data into training and testing sentences\n",
    "training, testing = train_test_split(good_sentences, test_size = 0.15, random_state = 2)\n",
    "\n",
    "print(\"Number of training sentences:\", len(training))\n",
    "print(\"Number of testing sentences:\", len(testing))"
   ]
  },
  {
   "cell_type": "code",
   "execution_count": 20,
   "metadata": {},
   "outputs": [],
   "source": [
    "# Sort the sentences by length to reduce padding, which will allow the model to train faster\n",
    "training_sorted = []\n",
    "testing_sorted = []\n",
    "\n",
    "for i in range(min_length, max_length+1):\n",
    "    for sentence in training:\n",
    "        if len(sentence) == i:\n",
    "            training_sorted.append(sentence)\n",
    "    for sentence in testing:\n",
    "        if len(sentence) == i:\n",
    "            testing_sorted.append(sentence)"
   ]
  },
  {
   "cell_type": "code",
   "execution_count": 21,
   "metadata": {},
   "outputs": [
    {
     "name": "stdout",
     "output_type": "stream",
     "text": [
      "[56, 53, 19, 7, 29, 26, 20, 24, 45, 57] 10\n",
      "[56, 14, 24, 33, 7, 33, 16, 25, 16, 57] 10\n",
      "[0, 26, 7, 25, 26, 31, 35, 27, 24, 37] 10\n",
      "[55, 61, 15, 24, 29, 7, 42, 35, 48, 62] 10\n",
      "[1, 33, 7, 18, 16, 29, 34, 22, 16, 37] 10\n"
     ]
    }
   ],
   "source": [
    "# Check to ensure the sentences have been selected and sorted correctly\n",
    "for i in range(5):\n",
    "    print(training_sorted[i], len(training_sorted[i]))"
   ]
  },
  {
   "cell_type": "code",
   "execution_count": 22,
   "metadata": {},
   "outputs": [],
   "source": [
    "'''letters = ['a','b','c','d','e','f','g','h','i','j','k','l','m',\n",
    "           'n','o','p','q','r','s','t','u','v','w','x','y','z']\n",
    "'''\n",
    "\n",
    "def noise_maker(sentence, threshold):\n",
    "    '''Relocate, remove, or add characters to create spelling mistakes'''\n",
    "    \n",
    "    noisy_sentence = []\n",
    "    i = 0\n",
    "    while i < len(sentence):\n",
    "        random = np.random.uniform(0,1,1)\n",
    "        # Most characters will be correct since the threshold value is high\n",
    "        if random < threshold:\n",
    "            noisy_sentence.append(sentence[i])\n",
    "        else:\n",
    "            new_random = np.random.uniform(0,1,1)\n",
    "            # ~33% chance characters will swap locations\n",
    "            if new_random > 0.67:\n",
    "                if i == (len(sentence) - 1):\n",
    "                    # If last character in sentence, it will not be typed\n",
    "                    continue\n",
    "                else:\n",
    "                    # if any other character, swap order with following character\n",
    "                    noisy_sentence.append(sentence[i+1])\n",
    "                    noisy_sentence.append(sentence[i])\n",
    "                    i += 1\n",
    "            # ~33% chance an extra lower case letter will be added to the sentence\n",
    "            elif new_random < 0.33:\n",
    "                random_letter = np.random.choice(letters, 1)[0]\n",
    "                noisy_sentence.append(vocab_to_int[random_letter])\n",
    "                noisy_sentence.append(sentence[i])\n",
    "            # ~33% chance a character will not be typed\n",
    "            else:\n",
    "                pass     \n",
    "        i += 1\n",
    "    return noisy_sentence"
   ]
  },
  {
   "cell_type": "markdown",
   "metadata": {},
   "source": [
    "*Note: The noise_maker function is used to create spelling mistakes that are similar to those we would make. Sometimes we forget to type a letter, type a letter in the wrong location, or add an extra letter.*"
   ]
  },
  {
   "cell_type": "code",
   "execution_count": 23,
   "metadata": {},
   "outputs": [
    {
     "name": "stdout",
     "output_type": "stream",
     "text": [
      "[56, 53, 19, 7, 29, 26, 20, 24, 45, 57]\n",
      "[56, 53, 19, 7, 29, 26, 20, 24, 45, 57]\n",
      "\n",
      "[56, 14, 24, 33, 7, 33, 16, 25, 16, 57]\n",
      "[56, 14, 24, 33, 7, 33, 16, 25, 16, 57]\n",
      "\n",
      "[0, 26, 7, 25, 26, 31, 35, 27, 24, 37]\n",
      "[0, 26, 7, 25, 26, 31, 35, 27, 24, 37]\n",
      "\n",
      "[55, 61, 15, 24, 29, 7, 42, 35, 48, 62]\n",
      "[55, 61, 15, 24, 29, 7, 42, 35, 48, 62]\n",
      "\n",
      "[1, 33, 7, 18, 16, 29, 34, 22, 16, 37]\n",
      "[1, 33, 7, 18, 16, 29, 34, 22, 16, 37]\n",
      "\n"
     ]
    }
   ],
   "source": [
    "# Check to ensure noise_maker is making mistakes correctly.\n",
    "#threshold = 0.9\n",
    "for sentence in training_sorted[:5]:\n",
    "    print(sentence)\n",
    "    print(noise_maker(sentence, threshold))\n",
    "    print()"
   ]
  },
  {
   "cell_type": "markdown",
   "metadata": {
    "collapsed": true
   },
   "source": [
    "# Building the Model"
   ]
  },
  {
   "cell_type": "code",
   "execution_count": 24,
   "metadata": {},
   "outputs": [],
   "source": [
    "def model_inputs():\n",
    "    '''Create palceholders for inputs to the model'''\n",
    "    \n",
    "    with tf.name_scope('inputs'):\n",
    "        inputs = tf.placeholder(tf.int32, [None, None], name='inputs')\n",
    "    with tf.name_scope('targets'):\n",
    "        targets = tf.placeholder(tf.int32, [None, None], name='targets')\n",
    "    keep_prob = tf.placeholder(tf.float32, name='keep_prob')\n",
    "    inputs_length = tf.placeholder(tf.int32, (None,), name='inputs_length')\n",
    "    targets_length = tf.placeholder(tf.int32, (None,), name='targets_length')\n",
    "    max_target_length = tf.reduce_max(targets_length, name='max_target_len')\n",
    "\n",
    "    return inputs, targets, keep_prob, inputs_length, targets_length, max_target_length"
   ]
  },
  {
   "cell_type": "code",
   "execution_count": 25,
   "metadata": {},
   "outputs": [],
   "source": [
    "def process_encoding_input(targets, vocab_to_int, batch_size):\n",
    "    '''Remove the last word/char id from each batch and concat the <GO> to the begining of each batch'''\n",
    "    \n",
    "    with tf.name_scope(\"process_encoding\"):\n",
    "        ending = tf.strided_slice(targets, [0, 0], [batch_size, -1], [1, 1])\n",
    "        dec_input = tf.concat([tf.fill([batch_size, 1], vocab_to_int['<GO>']), ending], 1)\n",
    "\n",
    "    return dec_input"
   ]
  },
  {
   "cell_type": "code",
   "execution_count": 26,
   "metadata": {},
   "outputs": [],
   "source": [
    "def encoding_layer(rnn_size, sequence_length, num_layers, rnn_inputs, keep_prob, direction):\n",
    "    '''Create the encoding layer'''\n",
    "    \n",
    "    if direction == 1:\n",
    "        with tf.name_scope(\"RNN_Encoder_Cell_1D\"):\n",
    "            for layer in range(num_layers):\n",
    "                with tf.variable_scope('encoder_{}'.format(layer)):\n",
    "                    lstm = tf.contrib.rnn.LSTMCell(rnn_size)\n",
    "\n",
    "                    drop = tf.contrib.rnn.DropoutWrapper(lstm, \n",
    "                                                         input_keep_prob = keep_prob)\n",
    "\n",
    "                    enc_output, enc_state = tf.nn.dynamic_rnn(drop, \n",
    "                                                              rnn_inputs,\n",
    "                                                              sequence_length,\n",
    "                                                              dtype=tf.float32)\n",
    "\n",
    "            return enc_output, enc_state\n",
    "        \n",
    "        \n",
    "    if direction == 2:\n",
    "        with tf.name_scope(\"RNN_Encoder_Cell_2D\"):\n",
    "            for layer in range(num_layers):\n",
    "                with tf.variable_scope('encoder_{}'.format(layer)):\n",
    "                    cell_fw = tf.contrib.rnn.LSTMCell(rnn_size)\n",
    "                    cell_fw = tf.contrib.rnn.DropoutWrapper(cell_fw, \n",
    "                                                            input_keep_prob = keep_prob)\n",
    "\n",
    "                    cell_bw = tf.contrib.rnn.LSTMCell(rnn_size)\n",
    "                    cell_bw = tf.contrib.rnn.DropoutWrapper(cell_bw, \n",
    "                                                            input_keep_prob = keep_prob)\n",
    "\n",
    "                    enc_output, enc_state = tf.nn.bidirectional_dynamic_rnn(cell_fw, \n",
    "                                                                            cell_bw, \n",
    "                                                                            rnn_inputs,\n",
    "                                                                            sequence_length,\n",
    "                                                                            dtype=tf.float32)\n",
    "            # Join outputs since we are using a bidirectional RNN\n",
    "            enc_output = tf.concat(enc_output,2)\n",
    "            # Use only the forward state because the model can't use both states at once\n",
    "            return enc_output, enc_state[0]"
   ]
  },
  {
   "cell_type": "code",
   "execution_count": 27,
   "metadata": {},
   "outputs": [],
   "source": [
    "def training_decoding_layer(dec_embed_input, targets_length, dec_cell, initial_state, output_layer, \n",
    "                            vocab_size, max_target_length):\n",
    "    '''Create the training logits'''\n",
    "    \n",
    "    with tf.name_scope(\"Training_Decoder\"):\n",
    "        training_helper = tf.contrib.seq2seq.TrainingHelper(inputs=dec_embed_input,\n",
    "                                                            sequence_length=targets_length,\n",
    "                                                            time_major=False)\n",
    "\n",
    "        training_decoder = tf.contrib.seq2seq.BasicDecoder(dec_cell,\n",
    "                                                           training_helper,\n",
    "                                                           initial_state,\n",
    "                                                           output_layer) \n",
    "\n",
    "        training_logits, _ = tf.contrib.seq2seq.dynamic_decode(training_decoder,\n",
    "                                                               output_time_major=False,\n",
    "                                                               impute_finished=True,\n",
    "                                                               maximum_iterations=max_target_length)\n",
    "        return training_logits"
   ]
  },
  {
   "cell_type": "code",
   "execution_count": 28,
   "metadata": {},
   "outputs": [],
   "source": [
    "def inference_decoding_layer(embeddings, start_token, end_token, dec_cell, initial_state, output_layer,\n",
    "                             max_target_length, batch_size):\n",
    "    '''Create the inference logits'''\n",
    "    \n",
    "    with tf.name_scope(\"Inference_Decoder\"):\n",
    "        start_tokens = tf.tile(tf.constant([start_token], dtype=tf.int32), [batch_size], name='start_tokens')\n",
    "\n",
    "        inference_helper = tf.contrib.seq2seq.GreedyEmbeddingHelper(embeddings,\n",
    "                                                                    start_tokens,\n",
    "                                                                    end_token)\n",
    "\n",
    "        inference_decoder = tf.contrib.seq2seq.BasicDecoder(dec_cell,\n",
    "                                                            inference_helper,\n",
    "                                                            initial_state,\n",
    "                                                            output_layer)\n",
    "\n",
    "        inference_logits, _ = tf.contrib.seq2seq.dynamic_decode(inference_decoder,\n",
    "                                                                output_time_major=False,\n",
    "                                                                impute_finished=True,\n",
    "                                                                maximum_iterations=max_target_length)\n",
    "\n",
    "        return inference_logits"
   ]
  },
  {
   "cell_type": "code",
   "execution_count": 29,
   "metadata": {},
   "outputs": [],
   "source": [
    "def decoding_layer(dec_embed_input, embeddings, enc_output, enc_state, vocab_size, inputs_length, targets_length, \n",
    "                   max_target_length, rnn_size, vocab_to_int, keep_prob, batch_size, num_layers, direction):\n",
    "    '''Create the decoding cell and attention for the training and inference decoding layers'''\n",
    "    \n",
    "    with tf.name_scope(\"RNN_Decoder_Cell\"):\n",
    "        for layer in range(num_layers):\n",
    "            with tf.variable_scope('decoder_{}'.format(layer)):\n",
    "                lstm = tf.contrib.rnn.LSTMCell(rnn_size)\n",
    "                dec_cell = tf.contrib.rnn.DropoutWrapper(lstm, \n",
    "                                                         input_keep_prob = keep_prob)\n",
    "    \n",
    "    output_layer = Dense(vocab_size,\n",
    "                         kernel_initializer = tf.truncated_normal_initializer(mean = 0.0, stddev=0.1))\n",
    "    \n",
    "    attn_mech = tf.contrib.seq2seq.BahdanauAttention(rnn_size,\n",
    "                                                  enc_output,\n",
    "                                                  inputs_length,\n",
    "                                                  normalize=False,\n",
    "                                                  name='BahdanauAttention')\n",
    "    \n",
    "    with tf.name_scope(\"Attention_Wrapper\"):\n",
    "        #dec_cell = tf.contrib.seq2seq.DynamicAttentionWrapper(dec_cell,\n",
    "        dec_cell = tf.contrib.seq2seq.AttentionWrapper(dec_cell,\n",
    "                                                              attn_mech,\n",
    "                                                              rnn_size)\n",
    "    \n",
    "    #initial_state = tf.contrib.seq2seq.AttentionWrapperState(enc_state, _zero_state_tensors(rnn_size, batch_size, tf.float32))\n",
    "    initial_state = dec_cell.zero_state(batch_size=batch_size,dtype=tf.float32).clone(cell_state=enc_state)\n",
    "\n",
    "    with tf.variable_scope(\"decode\"):\n",
    "        #training_logits = training_decoding_layer(dec_embed_input, targets_length, dec_cell, initial_state, output_layer, vocab_size,  max_target_length)\n",
    "        training_helper = tf.contrib.seq2seq.TrainingHelper(inputs=dec_embed_input,\n",
    "                                                           sequence_length=targets_length,\n",
    "                                                           time_major=False)\n",
    "        training_decoder = tf.contrib.seq2seq.BasicDecoder(dec_cell,\n",
    "                                                          training_helper,\n",
    "                                                          initial_state,\n",
    "                                                          output_layer)\n",
    "        training_logits, _, _ = tf.contrib.seq2seq.dynamic_decode(training_decoder,\n",
    "                                                                 output_time_major=False,\n",
    "                                                                 impute_finished=True,\n",
    "                                                                 maximum_iterations=max_target_length)\n",
    "        \n",
    "        \n",
    "    with tf.variable_scope(\"decode\", reuse=True):\n",
    "        #inference_logits = inference_decoding_layer(embeddings, vocab_to_int['<GO>'], vocab_to_int['<EOS>'], dec_cell, initial_state, output_layer, max_target_length, batch_size)\n",
    "        start_tokens = tf.tile(tf.constant([vocab_to_int['<GO>']], dtype=tf.int32), [batch_size], name='start_tokens')\n",
    "        end_token = (tf.constant(vocab_to_int['<EOS>'], dtype=tf.int32))\n",
    "        inference_helper = tf.contrib.seq2seq.GreedyEmbeddingHelper(embeddings,\n",
    "                                                                   start_tokens,\n",
    "                                                                   end_token)\n",
    "        inference_decoder = tf.contrib.seq2seq.BasicDecoder(dec_cell,\n",
    "                                                           inference_helper,\n",
    "                                                           initial_state,\n",
    "                                                           output_layer)\n",
    "        inference_logits, _, _ = tf.contrib.seq2seq.dynamic_decode(inference_decoder,\n",
    "                                                                  output_time_major=False,\n",
    "                                                                  impute_finished=True,\n",
    "                                                                  maximum_iterations=max_target_length)\n",
    "\n",
    "    return training_logits, inference_logits"
   ]
  },
  {
   "cell_type": "code",
   "execution_count": 30,
   "metadata": {},
   "outputs": [],
   "source": [
    "def seq2seq_model(inputs, targets, keep_prob, inputs_length, targets_length, max_target_length, \n",
    "                  vocab_size, rnn_size, num_layers, vocab_to_int, batch_size, embedding_size, direction):\n",
    "    '''Use the previous functions to create the training and inference logits'''\n",
    "    \n",
    "    enc_embeddings = tf.Variable(tf.random_uniform([vocab_size, embedding_size], -1, 1))\n",
    "    enc_embed_input = tf.nn.embedding_lookup(enc_embeddings, inputs)\n",
    "    enc_output, enc_state = encoding_layer(rnn_size, inputs_length, num_layers, \n",
    "                                           enc_embed_input, keep_prob, direction)\n",
    "    \n",
    "    dec_embeddings = tf.Variable(tf.random_uniform([vocab_size, embedding_size], -1, 1))\n",
    "    dec_input = process_encoding_input(targets, vocab_to_int, batch_size)\n",
    "    dec_embed_input = tf.nn.embedding_lookup(dec_embeddings, dec_input)\n",
    "    \n",
    "    training_logits, inference_logits  = decoding_layer(dec_embed_input, \n",
    "                                                        dec_embeddings,\n",
    "                                                        enc_output,\n",
    "                                                        enc_state, \n",
    "                                                        vocab_size, \n",
    "                                                        inputs_length, \n",
    "                                                        targets_length, \n",
    "                                                        max_target_length,\n",
    "                                                        rnn_size, \n",
    "                                                        vocab_to_int, \n",
    "                                                        keep_prob, \n",
    "                                                        batch_size,\n",
    "                                                        num_layers,\n",
    "                                                        direction)\n",
    "    \n",
    "    return training_logits, inference_logits"
   ]
  },
  {
   "cell_type": "code",
   "execution_count": 31,
   "metadata": {},
   "outputs": [],
   "source": [
    "def pad_sentence_batch(sentence_batch):\n",
    "    \"\"\"Pad sentences with <PAD> so that each sentence of a batch has the same length\"\"\"\n",
    "    max_sentence = max([len(sentence) for sentence in sentence_batch])\n",
    "    return [sentence + [vocab_to_int['<PAD>']] * (max_sentence - len(sentence)) for sentence in sentence_batch]"
   ]
  },
  {
   "cell_type": "code",
   "execution_count": 32,
   "metadata": {},
   "outputs": [],
   "source": [
    "def get_batches(sentences, batch_size, threshold):\n",
    "    \"\"\"Batch sentences, noisy sentences, and the lengths of their sentences together.\n",
    "       With each epoch, sentences will receive new mistakes\"\"\"\n",
    "    \n",
    "    for batch_i in range(0, len(sentences)//batch_size):\n",
    "        start_i = batch_i * batch_size\n",
    "        sentences_batch = sentences[start_i:start_i + batch_size]\n",
    "        \n",
    "        sentences_batch_noisy = []\n",
    "        for sentence in sentences_batch:\n",
    "            sentences_batch_noisy.append(noise_maker(sentence, threshold))\n",
    "            \n",
    "        sentences_batch_eos = []\n",
    "        for sentence in sentences_batch:\n",
    "            sentence.append(vocab_to_int['<EOS>'])\n",
    "            sentences_batch_eos.append(sentence)\n",
    "            \n",
    "        pad_sentences_batch = np.array(pad_sentence_batch(sentences_batch_eos))\n",
    "        pad_sentences_noisy_batch = np.array(pad_sentence_batch(sentences_batch_noisy))\n",
    "        \n",
    "        # Need the lengths for the _lengths parameters\n",
    "        pad_sentences_lengths = []\n",
    "        for sentence in pad_sentences_batch:\n",
    "            pad_sentences_lengths.append(len(sentence))\n",
    "        \n",
    "        pad_sentences_noisy_lengths = []\n",
    "        for sentence in pad_sentences_noisy_batch:\n",
    "            pad_sentences_noisy_lengths.append(len(sentence))\n",
    "        \n",
    "        yield pad_sentences_noisy_batch, pad_sentences_batch, pad_sentences_noisy_lengths, pad_sentences_lengths"
   ]
  },
  {
   "cell_type": "markdown",
   "metadata": {},
   "source": [
    "*Note: This set of values achieved the best results.*"
   ]
  },
  {
   "cell_type": "code",
   "execution_count": 33,
   "metadata": {},
   "outputs": [
    {
     "data": {
      "text/plain": [
       "'\\nepochs = 100\\nbatch_size = 128\\nnum_layers = 2\\nrnn_size = 512\\nembedding_size = 128\\nlearning_rate = 0.0005\\ndirection = 2\\nthreshold = 0.95\\nkeep_probability = 0.75\\n'"
      ]
     },
     "execution_count": 33,
     "metadata": {},
     "output_type": "execute_result"
    }
   ],
   "source": [
    "# The default parameters\n",
    "'''\n",
    "epochs = 100\n",
    "batch_size = 128\n",
    "num_layers = 2\n",
    "rnn_size = 512\n",
    "embedding_size = 128\n",
    "learning_rate = 0.0005\n",
    "direction = 2\n",
    "threshold = 0.95\n",
    "keep_probability = 0.75\n",
    "'''"
   ]
  },
  {
   "cell_type": "code",
   "execution_count": 34,
   "metadata": {},
   "outputs": [],
   "source": [
    "def build_graph(keep_prob, rnn_size, num_layers, batch_size, learning_rate, embedding_size, direction):\n",
    "\n",
    "    tf.reset_default_graph()\n",
    "    \n",
    "    # Load the model inputs    \n",
    "    inputs, targets, keep_prob, inputs_length, targets_length, max_target_length = model_inputs()\n",
    "\n",
    "    # Create the training and inference logits\n",
    "    training_logits, inference_logits = seq2seq_model(tf.reverse(inputs, [-1]),\n",
    "                                                      targets, \n",
    "                                                      keep_prob,   \n",
    "                                                      inputs_length,\n",
    "                                                      targets_length,\n",
    "                                                      max_target_length,\n",
    "                                                      len(vocab_to_int)+1,\n",
    "                                                      rnn_size, \n",
    "                                                      num_layers, \n",
    "                                                      vocab_to_int,\n",
    "                                                      batch_size,\n",
    "                                                      embedding_size,\n",
    "                                                      direction)\n",
    "\n",
    "    # Create tensors for the training logits and inference logits\n",
    "    training_logits = tf.identity(training_logits.rnn_output, 'logits')\n",
    "\n",
    "    with tf.name_scope('predictions'):\n",
    "        predictions = tf.identity(inference_logits.sample_id, name='predictions')\n",
    "        tf.summary.histogram('predictions', predictions)\n",
    "\n",
    "    # Create the weights for sequence_loss\n",
    "    masks = tf.sequence_mask(targets_length, max_target_length, dtype=tf.float32, name='masks')\n",
    "    \n",
    "    with tf.name_scope(\"cost\"):\n",
    "        # Loss function\n",
    "        cost = tf.contrib.seq2seq.sequence_loss(training_logits, \n",
    "                                                targets, \n",
    "                                                masks)\n",
    "        tf.summary.scalar('cost', cost)\n",
    "\n",
    "    with tf.name_scope(\"optimze\"):\n",
    "        optimizer = tf.train.AdamOptimizer(learning_rate)\n",
    "\n",
    "        # Gradient Clipping\n",
    "        gradients = optimizer.compute_gradients(cost)\n",
    "        capped_gradients = [(tf.clip_by_value(grad, -5., 5.), var) for grad, var in gradients if grad is not None]\n",
    "        train_op = optimizer.apply_gradients(capped_gradients)\n",
    "\n",
    "    # Merge all of the summaries\n",
    "    merged = tf.summary.merge_all()    \n",
    "\n",
    "    # Export the nodes \n",
    "    export_nodes = ['inputs', 'targets', 'keep_prob', 'cost', 'inputs_length', 'targets_length',\n",
    "                    'predictions', 'merged', 'train_op','optimizer']\n",
    "    Graph = namedtuple('Graph', export_nodes)\n",
    "    local_dict = locals()\n",
    "    graph = Graph(*[local_dict[each] for each in export_nodes])\n",
    "\n",
    "    return graph"
   ]
  },
  {
   "cell_type": "markdown",
   "metadata": {
    "collapsed": true
   },
   "source": [
    "## Training the Model"
   ]
  },
  {
   "cell_type": "code",
   "execution_count": 35,
   "metadata": {
    "scrolled": false
   },
   "outputs": [],
   "source": [
    "def train(model, epochs, log_string):\n",
    "    '''Train the RNN'''\n",
    "    \n",
    "    with tf.Session() as sess:\n",
    "        sess.run(tf.global_variables_initializer())\n",
    "\n",
    "        # Used to determine when to stop the training early\n",
    "        testing_loss_summary = []\n",
    "\n",
    "        # Keep track of which batch iteration is being trained\n",
    "        iteration = 0\n",
    "        \n",
    "        display_step = 30 # The progress of the training will be displayed after every 30 batches\n",
    "        stop_early = 0 \n",
    "        stop = 3 # If the batch_loss_testing does not decrease in 3 consecutive checks, stop training\n",
    "        per_epoch = 3 # Test the model 3 times per epoch\n",
    "        testing_check = (len(training_sorted)//batch_size//per_epoch)-1\n",
    "\n",
    "        print()\n",
    "        print(\"Training Model: {}\".format(log_string))\n",
    "\n",
    "        train_writer = tf.summary.FileWriter('./logs/1/train/{}'.format(log_string), sess.graph)\n",
    "        test_writer = tf.summary.FileWriter('./logs/1/test/{}'.format(log_string))\n",
    "\n",
    "        for epoch_i in range(1, epochs+1): \n",
    "            batch_loss = 0\n",
    "            batch_time = 0\n",
    "            \n",
    "            for batch_i, (input_batch, target_batch, input_length, target_length) in enumerate(\n",
    "                    get_batches(training_sorted, batch_size, threshold)):\n",
    "                start_time = time.time()\n",
    "\n",
    "                summary, loss, _ = sess.run([model.merged,\n",
    "                                             model.cost, \n",
    "                                             model.train_op], \n",
    "                                             {model.inputs: input_batch,\n",
    "                                              model.targets: target_batch,\n",
    "                                              model.inputs_length: input_length,\n",
    "                                              model.targets_length: target_length,\n",
    "                                              model.keep_prob: keep_probability})\n",
    "\n",
    "\n",
    "                batch_loss += loss\n",
    "                end_time = time.time()\n",
    "                batch_time += end_time - start_time\n",
    "\n",
    "                # Record the progress of training\n",
    "                train_writer.add_summary(summary, iteration)\n",
    "\n",
    "                iteration += 1\n",
    "\n",
    "                if batch_i % display_step == 0 and batch_i > 0:\n",
    "                    print('Epoch {:>3}/{} Batch {:>4}/{} - Loss: {:>6.3f}, Seconds: {:>4.2f}'\n",
    "                          .format(epoch_i,\n",
    "                                  epochs, \n",
    "                                  batch_i, \n",
    "                                  len(training_sorted) // batch_size, \n",
    "                                  batch_loss / display_step, \n",
    "                                  batch_time))\n",
    "                    batch_loss = 0\n",
    "                    batch_time = 0\n",
    "\n",
    "                #### Testing ####\n",
    "                if batch_i % testing_check == 0 and batch_i > 0:\n",
    "                    batch_loss_testing = 0\n",
    "                    batch_time_testing = 0\n",
    "                    for batch_i, (input_batch, target_batch, input_length, target_length) in enumerate(\n",
    "                            get_batches(testing_sorted, batch_size, threshold)):\n",
    "                        start_time_testing = time.time()\n",
    "                        summary, loss = sess.run([model.merged,\n",
    "                                                  model.cost], \n",
    "                                                     {model.inputs: input_batch,\n",
    "                                                      model.targets: target_batch,\n",
    "                                                      model.inputs_length: input_length,\n",
    "                                                      model.targets_length: target_length,\n",
    "                                                      model.keep_prob: 1})\n",
    "\n",
    "                        batch_loss_testing += loss\n",
    "                        end_time_testing = time.time()\n",
    "                        batch_time_testing += end_time_testing - start_time_testing\n",
    "\n",
    "                        # Record the progress of testing\n",
    "                        test_writer.add_summary(summary, iteration)\n",
    "\n",
    "                    n_batches_testing = batch_i + 1\n",
    "                    print('Testing Loss: {:>6.3f}, Seconds: {:>4.2f}'\n",
    "                          .format(batch_loss_testing / n_batches_testing, \n",
    "                                  batch_time_testing))\n",
    "                    \n",
    "                    batch_time_testing = 0\n",
    "\n",
    "                    # If the batch_loss_testing is at a new minimum, save the model\n",
    "                    testing_loss_summary.append(batch_loss_testing)\n",
    "                    if batch_loss_testing <= min(testing_loss_summary):\n",
    "                        print('New Record!') \n",
    "                        stop_early = 0\n",
    "                        checkpoint = \"./{}.ckpt\".format(log_string)\n",
    "                        saver = tf.train.Saver()\n",
    "                        saver.save(sess, checkpoint)\n",
    "\n",
    "                    else:\n",
    "                        print(\"No Improvement.\")\n",
    "                        stop_early += 1\n",
    "                        if stop_early == stop:\n",
    "                            break\n",
    "\n",
    "            if stop_early == stop:\n",
    "                print(\"Stopping Training.\")\n",
    "                break"
   ]
  },
  {
   "cell_type": "code",
   "execution_count": 36,
   "metadata": {
    "scrolled": true
   },
   "outputs": [
    {
     "name": "stdout",
     "output_type": "stream",
     "text": [
      "\n",
      "Training Model: kp=0.75,nl=2,th=0.95\n",
      "Epoch   1/100 Batch   30/625 - Loss:  3.160, Seconds: 80.28\n",
      "Epoch   1/100 Batch   60/625 - Loss:  1.879, Seconds: 122.35\n",
      "Epoch   1/100 Batch   90/625 - Loss:  1.596, Seconds: 172.16\n",
      "Epoch   1/100 Batch  120/625 - Loss:  1.304, Seconds: 223.81\n",
      "Epoch   1/100 Batch  150/625 - Loss:  0.910, Seconds: 293.93\n",
      "Epoch   1/100 Batch  180/625 - Loss:  0.357, Seconds: 354.68\n",
      "Testing Loss:  1.996, Seconds: 1613.22\n",
      "New Record!\n",
      "Epoch   1/100 Batch  210/625 - Loss:  0.214, Seconds: 428.21\n",
      "Epoch   1/100 Batch  240/625 - Loss:  0.173, Seconds: 503.81\n",
      "Epoch   1/100 Batch  270/625 - Loss:  0.162, Seconds: 592.19\n",
      "Epoch   1/100 Batch  300/625 - Loss:  0.149, Seconds: 692.46\n",
      "Epoch   1/100 Batch  330/625 - Loss:  2.401, Seconds: 706.83\n",
      "Epoch   1/100 Batch  360/625 - Loss:  1.843, Seconds: 780.20\n",
      "Epoch   1/100 Batch  390/625 - Loss:  1.632, Seconds: 881.56\n",
      "Testing Loss:  0.734, Seconds: 1547.77\n",
      "New Record!\n",
      "Epoch   1/100 Batch  420/625 - Loss:  0.981, Seconds: 1017.98\n",
      "Epoch   1/100 Batch  450/625 - Loss:  0.235, Seconds: 1174.30\n",
      "Epoch   1/100 Batch  480/625 - Loss:  0.161, Seconds: 1369.62\n",
      "Epoch   1/100 Batch  510/625 - Loss:  0.140, Seconds: 1611.37\n",
      "Epoch   1/100 Batch  540/625 - Loss:  0.130, Seconds: 1979.10\n",
      "Epoch   1/100 Batch  570/625 - Loss:  0.121, Seconds: 2667.22\n",
      "Epoch   1/100 Batch  600/625 - Loss:  0.115, Seconds: 3983.38\n",
      "Testing Loss:  0.601, Seconds: 1894.90\n",
      "New Record!\n",
      "Epoch   2/100 Batch   30/625 - Loss:  0.479, Seconds: 102.89\n",
      "Epoch   2/100 Batch   60/625 - Loss:  0.190, Seconds: 157.11\n",
      "Epoch   2/100 Batch   90/625 - Loss:  0.155, Seconds: 206.65\n",
      "Epoch   2/100 Batch  120/625 - Loss:  0.142, Seconds: 260.59\n",
      "Epoch   2/100 Batch  150/625 - Loss:  0.131, Seconds: 316.06\n",
      "Epoch   2/100 Batch  180/625 - Loss:  0.128, Seconds: 377.86\n",
      "Testing Loss:  0.356, Seconds: 1945.01\n",
      "New Record!\n",
      "Epoch   2/100 Batch  210/625 - Loss:  0.123, Seconds: 449.58\n",
      "Epoch   2/100 Batch  240/625 - Loss:  0.117, Seconds: 528.84\n",
      "Epoch   2/100 Batch  270/625 - Loss:  0.115, Seconds: 619.58\n",
      "Epoch   2/100 Batch  300/625 - Loss:  0.109, Seconds: 721.70\n",
      "Epoch   2/100 Batch  330/625 - Loss:  0.106, Seconds: 831.46\n",
      "Epoch   2/100 Batch  360/625 - Loss:  0.105, Seconds: 898.03\n",
      "Epoch   2/100 Batch  390/625 - Loss:  0.101, Seconds: 903.40\n",
      "Testing Loss:  0.314, Seconds: 1974.29\n",
      "New Record!\n",
      "Epoch   2/100 Batch  420/625 - Loss:  0.099, Seconds: 1177.12\n",
      "Epoch   2/100 Batch  450/625 - Loss:  0.098, Seconds: 1457.87\n",
      "Epoch   2/100 Batch  480/625 - Loss:  0.093, Seconds: 1684.19\n",
      "Epoch   2/100 Batch  510/625 - Loss:  0.092, Seconds: 1976.70\n",
      "Epoch   2/100 Batch  540/625 - Loss:  0.089, Seconds: 2362.55\n",
      "Epoch   2/100 Batch  570/625 - Loss:  0.086, Seconds: 2946.14\n",
      "Epoch   2/100 Batch  600/625 - Loss:  0.084, Seconds: 3949.14\n",
      "Testing Loss:  0.466, Seconds: 1623.91\n",
      "No Improvement.\n",
      "Epoch   3/100 Batch   30/625 - Loss:  0.983, Seconds: 90.98\n",
      "Epoch   3/100 Batch   60/625 - Loss:  0.459, Seconds: 134.89\n",
      "Epoch   3/100 Batch   90/625 - Loss:  0.287, Seconds: 177.89\n",
      "Epoch   3/100 Batch  120/625 - Loss:  0.224, Seconds: 219.67\n",
      "Epoch   3/100 Batch  150/625 - Loss:  0.194, Seconds: 265.79\n",
      "Epoch   3/100 Batch  180/625 - Loss:  0.176, Seconds: 317.32\n",
      "Testing Loss:  0.377, Seconds: 1632.47\n",
      "No Improvement.\n",
      "Epoch   3/100 Batch  210/625 - Loss:  0.161, Seconds: 375.05\n",
      "Epoch   3/100 Batch  240/625 - Loss:  0.152, Seconds: 439.14\n",
      "Epoch   3/100 Batch  270/625 - Loss:  0.148, Seconds: 511.55\n",
      "Epoch   3/100 Batch  300/625 - Loss:  0.139, Seconds: 590.89\n",
      "Epoch   3/100 Batch  330/625 - Loss:  0.135, Seconds: 683.43\n",
      "Epoch   3/100 Batch  360/625 - Loss:  0.131, Seconds: 787.28\n",
      "Epoch   3/100 Batch  390/625 - Loss:  0.125, Seconds: 910.98\n",
      "Testing Loss:  0.385, Seconds: 1662.37\n",
      "No Improvement.\n",
      "Stopping Training.\n"
     ]
    }
   ],
   "source": [
    "# Train the model with the desired tuning parameters\n",
    "#Código para probar distintas arquitecturas\n",
    "'''\n",
    "for keep_probability in [0.75]:\n",
    "    for num_layers in [2]:\n",
    "        for threshold in [0.95]:\n",
    "            log_string = 'kp={},nl={},th={}'.format(keep_probability,\n",
    "                                                    num_layers,\n",
    "                                                    threshold) \n",
    "            model = build_graph(keep_probability, rnn_size, num_layers, batch_size, \n",
    "                                learning_rate, embedding_size, direction)\n",
    "            train(model, epochs, log_string)\n",
    "'''\n",
    "log_string = 'kp={},nl={},th={}'.format(keep_probability, num_layers, threshold) \n",
    "model = build_graph(keep_probability, rnn_size, num_layers, batch_size, learning_rate, embedding_size, direction)\n",
    "train(model, epochs, log_string)"
   ]
  },
  {
   "cell_type": "markdown",
   "metadata": {
    "collapsed": true
   },
   "source": [
    "## Fixing Custom Sentences"
   ]
  },
  {
   "cell_type": "code",
   "execution_count": null,
   "metadata": {},
   "outputs": [],
   "source": [
    "def text_to_ints(text):\n",
    "    '''Prepare the text for the model'''\n",
    "    \n",
    "    text = clean_text(text)\n",
    "    return [vocab_to_int[word] for word in text]"
   ]
  },
  {
   "cell_type": "code",
   "execution_count": null,
   "metadata": {},
   "outputs": [],
   "source": [
    "# Create your own sentence or use one from the dataset\n",
    "text = \"Spellin is difficult, whch is wyh you need to study everyday.\"\n",
    "text = text_to_ints(text)\n",
    "\n",
    "#random = np.random.randint(0,len(testing_sorted))\n",
    "#text = testing_sorted[random]\n",
    "#text = noise_maker(text, 0.95)\n",
    "\n",
    "checkpoint = \"./kp=0.75,nl=2,th=0.95.ckpt\"\n",
    "\n",
    "model = build_graph(keep_probability, rnn_size, num_layers, batch_size, learning_rate, embedding_size, direction) \n",
    "\n",
    "with tf.Session() as sess:\n",
    "    # Load saved model\n",
    "    saver = tf.train.Saver()\n",
    "    saver.restore(sess, checkpoint)\n",
    "    \n",
    "    #Multiply by batch_size to match the model's input parameters\n",
    "    answer_logits = sess.run(model.predictions, {model.inputs: [text]*batch_size, \n",
    "                                                 model.inputs_length: [len(text)]*batch_size,\n",
    "                                                 model.targets_length: [len(text)+1], \n",
    "                                                 model.keep_prob: [1.0]})[0]\n",
    "\n",
    "# Remove the padding from the generated sentence\n",
    "pad = vocab_to_int[\"<PAD>\"] \n",
    "\n",
    "print('\\nText')\n",
    "print('  Word Ids:    {}'.format([i for i in text]))\n",
    "print('  Input Words: {}'.format(\"\".join([int_to_vocab[i] for i in text])))\n",
    "\n",
    "print('\\nSummary')\n",
    "print('  Word Ids:       {}'.format([i for i in answer_logits if i != pad]))\n",
    "print('  Response Words: {}'.format(\"\".join([int_to_vocab[i] for i in answer_logits if i != pad])))"
   ]
  },
  {
   "cell_type": "markdown",
   "metadata": {
    "collapsed": true
   },
   "source": [
    "Examples of corrected sentences:\n",
    "- Spellin is difficult, whch is wyh you need to study everyday.\n",
    "- Spelling is difficult, which is why you need to study everyday.\n",
    "\n",
    "\n",
    "- The first days of her existence in th country were vrey hard for Dolly. \n",
    "- The first days of her existence in the country were very hard for Dolly.\n",
    "\n",
    "\n",
    "- Thi is really something impressiv thaat we should look into right away! \n",
    "- This is really something impressive that we should look into right away!"
   ]
  },
  {
   "cell_type": "markdown",
   "metadata": {
    "collapsed": true
   },
   "source": [
    "## Summary"
   ]
  },
  {
   "cell_type": "markdown",
   "metadata": {},
   "source": [
    "I hope that you have found this project to be rather interesting and useful. The example sentences that I have presented above were specifically chosen, and the model will not always be able to make corrections of this quality. Given the amount of data that we are working with, this model still struggles. For it to be more useful, it would require far more training data, and additional parameter tuning. This parameter values that I have above worked best for me, but I expect there are even better values that I was not able to find.\n",
    "\n",
    "Thanks for reading!"
   ]
  }
 ],
 "metadata": {
  "anaconda-cloud": {},
  "kernelspec": {
   "display_name": "Python 3",
   "language": "python",
   "name": "python3"
  },
  "language_info": {
   "codemirror_mode": {
    "name": "ipython",
    "version": 3
   },
   "file_extension": ".py",
   "mimetype": "text/x-python",
   "name": "python",
   "nbconvert_exporter": "python",
   "pygments_lexer": "ipython3",
   "version": "3.7.7"
  }
 },
 "nbformat": 4,
 "nbformat_minor": 1
}
