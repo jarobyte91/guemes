{
 "cells": [
  {
   "cell_type": "code",
   "execution_count": 6,
   "metadata": {},
   "outputs": [
    {
     "name": "stdout",
     "output_type": "stream",
     "text": [
      "[' ', '!', '\"', '#', '&', \"'\", '(', ')', ',', '-', '.', ':', ';', '?', 'A', 'B', 'C', 'D', 'E', 'F', 'G', 'H', 'I', 'J', 'K', 'L', 'M', 'N', 'O', 'P', 'Q', 'R', 'S', 'T', 'U', 'V', 'W', 'X', 'Y', 'Z', 'a', 'b', 'c', 'd', 'e', 'f', 'g', 'h', 'i', 'j', 'k', 'l', 'm', 'n', 'o', 'p', 'q', 'r', 's', 't', 'u', 'v', 'w', 'x', 'y', 'z', '¡', '°', '¿', 'Á', 'É', 'Í', 'Ó', 'Ú', 'á', 'é', 'í', 'ñ', 'ó', 'ú', 'ü']\n"
     ]
    }
   ],
   "source": [
    "len(vocab_to_int)\n",
    "print(sorted(vocab_to_int))"
   ]
  },
  {
   "cell_type": "code",
   "execution_count": 1,
   "metadata": {},
   "outputs": [],
   "source": [
    "import re\n",
    "\n",
    "def limpiar_texto(texto):\n",
    "    texto=re.sub(r'[“”«»‘]','\"',texto)\n",
    "    texto=re.sub('’','\\'',texto)\n",
    "    texto=re.sub(r'[\\*\\+=_´`\\{~œ]','',texto)\n",
    "    texto=re.sub('--','-',texto)\n",
    "    texto=re.sub('—','-',texto)\n",
    "    texto=re.sub('–','-',texto)\n",
    "    texto=re.sub('/','-',texto)\n",
    "    texto=re.sub('…','...',texto)\n",
    "    texto=re.sub('\\[','(',texto)\n",
    "    texto=re.sub('\\]',')',texto)\n",
    "    texto=re.sub('º','°',texto)\n",
    "    texto=re.sub('À','A',texto)\n",
    "    texto=re.sub('Ç','C',texto)\n",
    "    texto=re.sub('ç','c',texto)\n",
    "    texto=re.sub('È','E',texto)\n",
    "    texto=re.sub('Ì','l',texto)\n",
    "    texto=re.sub('Ï','f',texto)\n",
    "    texto=re.sub('à','a',texto)\n",
    "    texto=re.sub('â','a',texto)\n",
    "    texto=re.sub('ä','a',texto)\n",
    "    texto=re.sub('è','e',texto)\n",
    "    texto=re.sub('ê','e',texto)\n",
    "    texto=re.sub('ë','e',texto)\n",
    "    texto=re.sub('ì','i',texto)\n",
    "    texto=re.sub('î','i',texto)\n",
    "    texto=re.sub('ï','i',texto)\n",
    "    texto=re.sub('ò','o',texto)\n",
    "    texto=re.sub('ô','o',texto)\n",
    "    texto=re.sub('ö','o',texto)\n",
    "    texto=re.sub('ù','u',texto)\n",
    "    texto=re.sub(r'[0-9]','#',texto)#Reemplazamos dígitos por #\n",
    "    texto=re.sub('<:v','g',texto)#Sólo ocurre una vez el carácter <\n",
    "    texto=re.sub('%','fi',texto)#Sólo ocurre una vez, creo que en Ana Karenina\n",
    "    return texto"
   ]
  },
  {
   "cell_type": "code",
   "execution_count": 2,
   "metadata": {},
   "outputs": [],
   "source": [
    "import xml.etree.ElementTree as ET\n",
    "import os\n",
    "\n",
    "carpeta = './libopus/'\n",
    "archivo=open('corpus_opus_para_spelling.txt','w+')\n",
    "coleccion=[]\n",
    "for filename in os.listdir(carpeta):\n",
    "    if filename.endswith(\".xml\"):\n",
    "        tree = ET.parse(carpeta+filename)\n",
    "        root = tree.getroot()\n",
    "        for sentence in root.iter('s'):\n",
    "            texto=sentence.text\n",
    "            if texto[0:8]!='Source: ' and texto[0:13]!='Translation: ':\n",
    "                texto=limpiar_texto(texto)\n",
    "                archivo.write(texto+\"\\n\")\n",
    "                coleccion.append(texto)\n",
    "archivo.close()\n",
    "\n",
    "#####Códigos para XML:\n",
    "#root.attrib\n",
    "#for child in root:\n",
    "#    print(child.tag, child.attrib)\n",
    "#for elem in list(root):\n",
    "#    title = page.find('title').text\n",
    "#    content = page.find('content').text\n",
    "#    print('title: %s; content: %s' % (title, content)).\n",
    "#cade=\"Source: librod\"\n",
    "#cade2=\"Translation: \"\n",
    "#cade[0:8]!='Source: '"
   ]
  },
  {
   "cell_type": "code",
   "execution_count": 3,
   "metadata": {},
   "outputs": [],
   "source": [
    "vocab_to_int={}\n",
    "count=0\n",
    "for texto in coleccion:\n",
    "    for char in texto:\n",
    "        if char not in vocab_to_int:\n",
    "            vocab_to_int[char]=count\n",
    "            count+=1"
   ]
  }
 ],
 "metadata": {
  "kernelspec": {
   "display_name": "Python 3",
   "language": "python",
   "name": "python3"
  },
  "language_info": {
   "codemirror_mode": {
    "name": "ipython",
    "version": 3
   },
   "file_extension": ".py",
   "mimetype": "text/x-python",
   "name": "python",
   "nbconvert_exporter": "python",
   "pygments_lexer": "ipython3",
   "version": "3.7.7"
  }
 },
 "nbformat": 4,
 "nbformat_minor": 2
}
